{
 "cells": [
  {
   "cell_type": "code",
   "execution_count": 1,
   "metadata": {
    "collapsed": true
   },
   "outputs": [],
   "source": [
    "from bs4 import BeautifulSoup\n",
    "import pandas as pd\n",
    "import urllib.request"
   ]
  },
  {
   "cell_type": "code",
   "execution_count": 2,
   "metadata": {
    "collapsed": true
   },
   "outputs": [],
   "source": [
    "# Access Basketball Reference to get league leaders in win shares for each season\n",
    "#specify the url\n",
    "site = \"https://www.basketball-reference.com/leaders/hof_prob.html\"\n",
    "#Query the website and return the html to the variable 'page'\n",
    "page = urllib.request.urlopen(site)\n",
    "#Parse the html in the 'page' variable and store it in Beautiful Soup format\n",
    "soup = BeautifulSoup(page, 'lxml')"
   ]
  },
  {
   "cell_type": "code",
   "execution_count": 3,
   "metadata": {
    "collapsed": false
   },
   "outputs": [],
   "source": [
    "# Save two Hall of Fame Probability leader tables (all time and active)\n",
    "alltime_table, active_table = soup.find_all('table')"
   ]
  },
  {
   "cell_type": "code",
   "execution_count": null,
   "metadata": {
    "collapsed": false
   },
   "outputs": [],
   "source": []
  },
  {
   "cell_type": "code",
   "execution_count": 4,
   "metadata": {
    "collapsed": false
   },
   "outputs": [],
   "source": [
    "#create list tuples of players and href \n",
    "alltime_list = []\n",
    "active_list = []\n",
    "for line in alltime_table('td'):\n",
    "    try:\n",
    "        alltime_list.append((str(line.a.string), str(line.a.get('href'))))\n",
    "    except:\n",
    "        pass\n",
    "    \n",
    "for line in active_table('td'):\n",
    "    try:\n",
    "        active_list.append((str(line.a.string), str(line.a.get('href'))))\n",
    "    except:\n",
    "        pass"
   ]
  },
  {
   "cell_type": "code",
   "execution_count": 5,
   "metadata": {
    "collapsed": false
   },
   "outputs": [
    {
     "data": {
      "text/plain": [
       "(250,\n",
       " [('Kareem Abdul-Jabbar', '/players/a/abdulka01.html'),\n",
       "  ('Michael Jordan', '/players/j/jordami01.html'),\n",
       "  ('Bill Russell', '/players/r/russebi01.html'),\n",
       "  ('Kobe Bryant', '/players/b/bryanko01.html'),\n",
       "  ('Wilt Chamberlain', '/players/c/chambwi01.html'),\n",
       "  ('LeBron James', '/players/j/jamesle01.html'),\n",
       "  ('Tim Duncan', '/players/d/duncati01.html'),\n",
       "  (\"Shaquille O'Neal\", '/players/o/onealsh01.html'),\n",
       "  ('John Havlicek', '/players/h/havlijo01.html'),\n",
       "  ('Oscar Robertson', '/players/r/roberos01.html')])"
      ]
     },
     "execution_count": 5,
     "metadata": {},
     "output_type": "execute_result"
    }
   ],
   "source": [
    "len(alltime_list), alltime_list[:10]"
   ]
  },
  {
   "cell_type": "code",
   "execution_count": 6,
   "metadata": {
    "collapsed": false
   },
   "outputs": [
    {
     "data": {
      "text/plain": [
       "(100,\n",
       " [('LeBron James', '/players/j/jamesle01.html'),\n",
       "  ('Dwyane Wade', '/players/w/wadedw01.html'),\n",
       "  ('Dirk Nowitzki', '/players/n/nowitdi01.html'),\n",
       "  ('Kevin Durant', '/players/d/duranke01.html'),\n",
       "  ('Chris Paul', '/players/p/paulch01.html'),\n",
       "  ('Stephen Curry', '/players/c/curryst01.html'),\n",
       "  ('Russell Westbrook', '/players/w/westbru01.html'),\n",
       "  ('James Harden', '/players/h/hardeja01.html'),\n",
       "  ('Dwight Howard', '/players/h/howardw01.html'),\n",
       "  ('Carmelo Anthony', '/players/a/anthoca01.html')])"
      ]
     },
     "execution_count": 6,
     "metadata": {},
     "output_type": "execute_result"
    }
   ],
   "source": [
    "len(active_list), active_list[:10]"
   ]
  },
  {
   "cell_type": "code",
   "execution_count": 7,
   "metadata": {
    "collapsed": false
   },
   "outputs": [
    {
     "name": "stdout",
     "output_type": "stream",
     "text": [
      "310\n",
      "[('Luol Deng', '/players/d/denglu01.html'), ('Ricky Rubio', '/players/r/rubiori01.html'), ('Rudy Gobert', '/players/g/goberru01.html'), ('Ty Lawson', '/players/l/lawsoty01.html'), ('JaVale McGee', '/players/m/mcgeeja01.html'), ('Serge Ibaka', '/players/i/ibakase01.html'), ('Devin Harris', '/players/h/harride01.html'), ('Eric Bledsoe', '/players/b/bledser01.html'), ('Shaun Livingston', '/players/l/livinsh01.html'), ('Nikola Vucevic', '/players/v/vucevni01.html')]\n"
     ]
    }
   ],
   "source": [
    "# Create list of players on active_list but not alltime_list\n",
    "# and add to alltime_list\n",
    "active_list = list(set(active_list).difference(set(alltime_list)))\n",
    "alltime_list += active_list\n",
    "# Print new list length and last 10 players of list\n",
    "print(len(alltime_list))\n",
    "print(alltime_list[-10:])"
   ]
  },
  {
   "cell_type": "code",
   "execution_count": 8,
   "metadata": {
    "collapsed": false
   },
   "outputs": [
    {
     "ename": "NameError",
     "evalue": "name 'height_str' is not defined",
     "output_type": "error",
     "traceback": [
      "\u001b[0;31m---------------------------------------------------------------------------\u001b[0m",
      "\u001b[0;31mNameError\u001b[0m                                 Traceback (most recent call last)",
      "\u001b[0;32m<ipython-input-8-45399c855c66>\u001b[0m in \u001b[0;36m<module>\u001b[0;34m()\u001b[0m\n\u001b[1;32m     11\u001b[0m \u001b[1;33m\u001b[0m\u001b[0m\n\u001b[1;32m     12\u001b[0m     \u001b[0mheight\u001b[0m \u001b[1;33m=\u001b[0m \u001b[0mstr\u001b[0m\u001b[1;33m(\u001b[0m\u001b[0msoup\u001b[0m\u001b[1;33m.\u001b[0m\u001b[0mfind_all\u001b[0m\u001b[1;33m(\u001b[0m\u001b[1;34m'div'\u001b[0m\u001b[1;33m,\u001b[0m \u001b[1;33m{\u001b[0m\u001b[1;34m'id'\u001b[0m\u001b[1;33m:\u001b[0m\u001b[1;34m'info'\u001b[0m\u001b[1;33m}\u001b[0m\u001b[1;33m)\u001b[0m\u001b[1;33m[\u001b[0m\u001b[1;36m0\u001b[0m\u001b[1;33m]\u001b[0m\u001b[1;33m.\u001b[0m\u001b[0mfind_all\u001b[0m\u001b[1;33m(\u001b[0m\u001b[1;34m'span'\u001b[0m\u001b[1;33m,\u001b[0m \u001b[1;33m{\u001b[0m\u001b[1;34m'itemprop'\u001b[0m\u001b[1;33m:\u001b[0m\u001b[1;34m'height'\u001b[0m\u001b[1;33m}\u001b[0m\u001b[1;33m)\u001b[0m\u001b[1;33m[\u001b[0m\u001b[1;36m0\u001b[0m\u001b[1;33m]\u001b[0m\u001b[1;33m.\u001b[0m\u001b[0mstring\u001b[0m\u001b[1;33m)\u001b[0m\u001b[1;33m\u001b[0m\u001b[1;33m\u001b[0m\u001b[0m\n\u001b[0;32m---> 13\u001b[0;31m     \u001b[0mheight\u001b[0m \u001b[1;33m=\u001b[0m \u001b[0mheight_str\u001b[0m\u001b[1;33m.\u001b[0m\u001b[0msplit\u001b[0m\u001b[1;33m(\u001b[0m\u001b[1;34m'-'\u001b[0m\u001b[1;33m)\u001b[0m\u001b[1;33m\u001b[0m\u001b[1;33m\u001b[0m\u001b[0m\n\u001b[0m\u001b[1;32m     14\u001b[0m     \u001b[0mheight\u001b[0m \u001b[1;33m=\u001b[0m \u001b[0mint\u001b[0m\u001b[1;33m(\u001b[0m\u001b[0mheight\u001b[0m\u001b[1;33m[\u001b[0m\u001b[1;36m0\u001b[0m\u001b[1;33m]\u001b[0m\u001b[1;33m)\u001b[0m\u001b[1;33m*\u001b[0m\u001b[1;36m12\u001b[0m \u001b[1;33m+\u001b[0m \u001b[0mint\u001b[0m\u001b[1;33m(\u001b[0m\u001b[0mheight\u001b[0m\u001b[1;33m[\u001b[0m\u001b[1;36m1\u001b[0m\u001b[1;33m]\u001b[0m\u001b[1;33m)\u001b[0m\u001b[1;33m\u001b[0m\u001b[1;33m\u001b[0m\u001b[0m\n\u001b[1;32m     15\u001b[0m \u001b[1;33m\u001b[0m\u001b[0m\n",
      "\u001b[0;31mNameError\u001b[0m: name 'height_str' is not defined"
     ]
    }
   ],
   "source": [
    "# This for loop gets the season by season stats for each player in the \n",
    "# alltime_list. First it turns the player page html into a Beautiful Soup\n",
    "# object to make the stats table. I also pull the player's height from\n",
    "# the top of the page, and convert it from a string 'x-xx' to inches.\n",
    "all_seasons = [] \n",
    "for player in alltime_list[:20]:\n",
    "    reference_site = 'https://www.basketball-reference.com' + player[1]\n",
    "    page = urllib.request.urlopen(reference_site)\n",
    "    soup = BeautifulSoup(page, 'lxml')\n",
    "    per_game_table = soup.table\n",
    "    \n",
    "    height = str(soup.find_all('div', {'id':'info'})[0].find_all('span', {'itemprop':'height'})[0].string)\n",
    "    height = height.split('-')\n",
    "    height = int(height[0])*12 + int(height[1])\n",
    "    \n",
    "    # This section gets stats values for a single season and \n",
    "    # makes a single list\n",
    "    values = []\n",
    "    length = 0\n",
    "    for row in (per_game_table('tr')):\n",
    "        for num, column in enumerate(row):\n",
    "            # Players from different decades have different\n",
    "            # available stats, but PTS is always the last column\n",
    "            if column.string == 'PTS':\n",
    "                length = int((num+1) / 2)\n",
    "            if column != '\\n':\n",
    "                values.append(str(column.string))\n",
    "    categories = values[:length]\n",
    "    # Ignores category names\n",
    "    values = values[length:]\n",
    "\n",
    "    # Create list of individual season stats lists\n",
    "    player_career = [['Player', 'href', 'Height'] + categories]\n",
    "    season = [player[0], player[1], height]\n",
    "    for value in values:\n",
    "        if value.startswith('Did'):\n",
    "            # Find players who took time off mid-career\n",
    "            print(player[0], value)\n",
    "        season.append(str(value))\n",
    "        #added and (season[3] != None)\n",
    "        if (len(season) == length+3) and (season[4] != 'None'):\n",
    "            player_career.append(season)\n",
    "            season = [player[0], player[1], height]\n",
    "        # Player must have played at least 12 seasons\n",
    "    #if (len(player_career) > 12):# and (len(player_career[0]) == 33):\n",
    "    all_seasons.append(player_career)\n",
    "    print(str((len(player_career)-1)), ' seasons of ', player[0], 'added')\n"
   ]
  },
  {
   "cell_type": "code",
   "execution_count": null,
   "metadata": {
    "collapsed": false
   },
   "outputs": [],
   "source": [
    "# Create pandas DataFrame of all data\n",
    "category_list= ['Player', 'href', 'Height', 'Season', 'Age', 'Tm', 'Lg', \n",
    "                'Pos', 'G', 'GS', 'MP', 'FG', 'FGA', 'FG%', '3P', '3PA', \n",
    "                '3P%', '2P', '2PA', '2P%', 'eFG%', 'FT', 'FTA', 'FT%', \n",
    "                'ORB', 'DRB', 'TRB', 'AST', 'STL', 'BLK', 'TOV', 'PF', 'PTS'\n",
    "                ]"
   ]
  },
  {
   "cell_type": "code",
   "execution_count": null,
   "metadata": {
    "collapsed": false
   },
   "outputs": [],
   "source": [
    "# CREATE LIST OF DATAFRAMES AND MERGE AT END\n",
    "df_list = []\n",
    "season_df_list = []\n",
    "master_df = pd.DataFrame(columns=category_list)\n",
    "for career in all_seasons:\n",
    "    labels=career[0]\n",
    "    for season in career[1:]:\n",
    "        season_df = pd.DataFrame(data=season, index=labels)\n",
    "        season_df_list.append(season_df.transpose())\n",
    "    print(career[1][0] + ' added')\n",
    "career_df = pd.concat(season_df_list, ignore_index=True)\n",
    "    \n",
    "\n",
    "career_df.to_csv('all-stats-sample.csv', columns = category_list)"
   ]
  },
  {
   "cell_type": "code",
   "execution_count": null,
   "metadata": {
    "collapsed": false
   },
   "outputs": [],
   "source": [
    "# This is a potential alternative to my current way of working through the players in\n",
    "# the HOF list. I probably don't need to investigate since I got what I needed, but understanding\n",
    "# how this works would be beneficial\n",
    "all_rows = {}\n",
    "for player in alltime_list[:20]:\n",
    "    reference_site = 'https://www.basketball-reference.com' + player[1]\n",
    "    page = urllib.request.urlopen(reference_site)\n",
    "    soup = BeautifulSoup(page, 'lxml')\n",
    "    per_game_table = soup.table\n",
    "    \n",
    "    output_rows = []\n",
    "    for table_row in per_game_table.findAll('tr'):\n",
    "        columns = table_row.findAll('td')\n",
    "        output_row = []\n",
    "        for column in columns:\n",
    "            output_row.append(column.text)\n",
    "        output_rows.append(output_row)\n",
    "    all_rows[player[0]] = output_rows\n",
    "all_rows['Michael Jordan']\n"
   ]
  },
  {
   "cell_type": "code",
   "execution_count": null,
   "metadata": {
    "collapsed": false
   },
   "outputs": [],
   "source": []
  },
  {
   "cell_type": "code",
   "execution_count": null,
   "metadata": {
    "collapsed": true
   },
   "outputs": [],
   "source": []
  }
 ],
 "metadata": {
  "kernelspec": {
   "display_name": "Python 3",
   "language": "python",
   "name": "python3"
  },
  "language_info": {
   "codemirror_mode": {
    "name": "ipython",
    "version": 3
   },
   "file_extension": ".py",
   "mimetype": "text/x-python",
   "name": "python",
   "nbconvert_exporter": "python",
   "pygments_lexer": "ipython3",
   "version": "3.6.7"
  }
 },
 "nbformat": 4,
 "nbformat_minor": 2
}
