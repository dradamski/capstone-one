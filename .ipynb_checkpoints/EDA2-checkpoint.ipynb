{
 "cells": [
  {
   "cell_type": "code",
   "execution_count": 1,
   "metadata": {},
   "outputs": [],
   "source": [
    "%matplotlib inline\n",
    "import matplotlib.pyplot as plt\n",
    "import numpy as np\n",
    "import pandas as pd\n",
    "import seaborn as sns\n",
    "import scipy\n",
    "\n",
    "from cleaning import df"
   ]
  },
  {
   "cell_type": "markdown",
   "metadata": {},
   "source": [
    "I want to see if there are big differences between all star seasons and non-all star seasons.\n",
    "\n",
    "- The null hypothesis is that there is no significant difference between the mean values for all star seasons and non all star seasons.\n",
    "- The alternate hypothesis is that there is a significant difference between the means of both.\n",
    "\n",
    "The $\\alpha$ value is 0.05."
   ]
  },
  {
   "cell_type": "code",
   "execution_count": 2,
   "metadata": {},
   "outputs": [
    {
     "name": "stdout",
     "output_type": "stream",
     "text": [
      "<class 'pandas.core.frame.DataFrame'>\n",
      "Int64Index: 807 entries, 0 to 2670\n",
      "Data columns (total 30 columns):\n",
      "height             807 non-null float64\n",
      "age                807 non-null int64\n",
      "g                  807 non-null float64\n",
      "gs                 807 non-null float64\n",
      "mp                 807 non-null float64\n",
      "fg                 807 non-null float64\n",
      "fga                807 non-null float64\n",
      "fgp                807 non-null float64\n",
      "threep             807 non-null float64\n",
      "threepa            807 non-null float64\n",
      "threepp            807 non-null float64\n",
      "twop               807 non-null float64\n",
      "twopa              807 non-null float64\n",
      "twopp              807 non-null float64\n",
      "efgp               807 non-null float64\n",
      "ft                 807 non-null float64\n",
      "fta                807 non-null float64\n",
      "ftp                807 non-null float64\n",
      "orb                807 non-null float64\n",
      "drb                807 non-null float64\n",
      "trb                807 non-null float64\n",
      "ast                807 non-null float64\n",
      "stl                807 non-null float64\n",
      "blk                807 non-null float64\n",
      "tov                807 non-null float64\n",
      "pf                 807 non-null float64\n",
      "pts                807 non-null float64\n",
      "allstar            807 non-null int64\n",
      "years_in_league    807 non-null int64\n",
      "allstar_next       807 non-null float64\n",
      "dtypes: float64(27), int64(3)\n",
      "memory usage: 195.4 KB\n"
     ]
    }
   ],
   "source": [
    "allstar = df[df.allstar_next == 1]\n",
    "allstar = allstar.drop(['player', 'href', 'tm','lg', 'pos'], axis=1)\n",
    "nostar = df[df.allstar_next == 0]\n",
    "nostar = nostar.drop(['player', 'href', 'tm','lg', 'pos'], axis=1)\n",
    "allstar.info()"
   ]
  },
  {
   "cell_type": "code",
   "execution_count": 3,
   "metadata": {},
   "outputs": [
    {
     "name": "stdout",
     "output_type": "stream",
     "text": [
      "Column: p-value\n",
      "height : 2.3363110826575177e-10\n",
      "age : 1.3530571403409782e-19\n",
      "g : 1.0319206334295213e-26\n",
      "gs : 2.203272023732277e-138\n",
      "mp : 8.615339015552376e-225\n",
      "fg : 9.512420261702498e-222\n",
      "fga : 1.2499628976937351e-192\n",
      "fgp : 9.175188567875425e-33\n",
      "threep : 0.23643994830006035\n",
      "threepa : 0.20917961139783658\n",
      "threepp : 0.8289719961711538\n",
      "twop : 1.7671744451799767e-192\n",
      "twopa : 1.8161279633650965e-185\n",
      "twopp : 1.8939646515608085e-25\n",
      "efgp : 2.886798541888699e-14\n",
      "ft : 3.884657343199595e-169\n",
      "fta : 7.417377371668365e-168\n",
      "ftp : 1.2485380259006423e-05\n",
      "orb : 2.847104877545597e-34\n",
      "drb : 8.995896496407117e-69\n",
      "trb : 1.958597537763928e-63\n",
      "ast : 2.608890432839314e-37\n",
      "stl : 9.85044493351019e-56\n",
      "blk : 8.388546982037631e-31\n",
      "tov : 7.115370646081689e-153\n",
      "pf : 1.1759535941303408e-40\n",
      "pts : 2.4117069549436994e-225\n",
      "allstar : 4.3192007759160036e-153\n",
      "years_in_league : 1.5137778964694908e-15\n",
      "allstar_next : 0.0\n"
     ]
    }
   ],
   "source": [
    "a = zip(allstar.columns, scipy.stats.ttest_ind(nostar, allstar, equal_var=False)[1])\n",
    "\n",
    "print('Column: p-value')\n",
    "for i in list(a):\n",
    "    print(i[0], ':', i[1])"
   ]
  },
  {
   "cell_type": "markdown",
   "metadata": {},
   "source": [
    "In nearly every single category, there is a significant difference between allstars and non allstars. The only one's that are not significantly different are `threep`, `threepa`, and `threepp`. These significant differences make me believe that there is a way to predict whether a player will be an allstar the following year or not.\n",
    "\n",
    "I want to see the correlations between different values and the `allstar_next` column. I sorted it so I could see which columns are most highly correlated."
   ]
  },
  {
   "cell_type": "code",
   "execution_count": 6,
   "metadata": {},
   "outputs": [
    {
     "data": {
      "text/plain": [
       "allstar_next       1.000000\n",
       "pts                0.573396\n",
       "fg                 0.564337\n",
       "fta                0.552855\n",
       "ft                 0.551512\n",
       "twop               0.550808\n",
       "allstar            0.546563\n",
       "twopa              0.534989\n",
       "fga                0.525304\n",
       "tov                0.478085\n",
       "mp                 0.464114\n",
       "gs                 0.382436\n",
       "drb                0.352474\n",
       "trb                0.333242\n",
       "stl                0.319647\n",
       "ast                0.264651\n",
       "blk                0.258993\n",
       "pf                 0.248791\n",
       "orb                0.242183\n",
       "fgp                0.208432\n",
       "twopp              0.181338\n",
       "g                  0.181158\n",
       "efgp               0.131923\n",
       "height             0.122583\n",
       "ftp                0.078448\n",
       "threepa            0.025300\n",
       "threep             0.024124\n",
       "threepp            0.004057\n",
       "years_in_league   -0.137572\n",
       "age               -0.155200\n",
       "Name: allstar_next, dtype: float64"
      ]
     },
     "execution_count": 6,
     "metadata": {},
     "output_type": "execute_result"
    }
   ],
   "source": [
    "df.corr()['allstar_next'].sort_values(ascending=False)"
   ]
  },
  {
   "cell_type": "code",
   "execution_count": null,
   "metadata": {},
   "outputs": [],
   "source": []
  }
 ],
 "metadata": {
  "kernelspec": {
   "display_name": "Python 3",
   "language": "python",
   "name": "python3"
  },
  "language_info": {
   "codemirror_mode": {
    "name": "ipython",
    "version": 3
   },
   "file_extension": ".py",
   "mimetype": "text/x-python",
   "name": "python",
   "nbconvert_exporter": "python",
   "pygments_lexer": "ipython3",
   "version": "3.6.7"
  }
 },
 "nbformat": 4,
 "nbformat_minor": 2
}
