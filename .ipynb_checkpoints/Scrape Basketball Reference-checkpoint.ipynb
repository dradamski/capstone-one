{
 "cells": [
  {
   "cell_type": "code",
   "execution_count": 1,
   "metadata": {
    "collapsed": false
   },
   "outputs": [
    {
     "name": "stderr",
     "output_type": "stream",
     "text": [
      "C:\\Users\\Drew\\Anaconda3\\lib\\site-packages\\bs4\\__init__.py:181: UserWarning: No parser was explicitly specified, so I'm using the best available HTML parser for this system (\"lxml\"). This usually isn't a problem, but if you run this code on another system, or in a different virtual environment, it may use a different parser and behave differently.\n",
      "\n",
      "The code that caused this warning is on line 193 of the file C:\\Users\\Drew\\Anaconda3\\lib\\runpy.py. To get rid of this warning, change code that looks like this:\n",
      "\n",
      " BeautifulSoup([your markup])\n",
      "\n",
      "to this:\n",
      "\n",
      " BeautifulSoup([your markup], \"lxml\")\n",
      "\n",
      "  markup_type=markup_type))\n"
     ]
    }
   ],
   "source": [
    "from bs4 import BeautifulSoup\n",
    "import matplotlib.pyplot as plt\n",
    "import pandas as pd\n",
    "import sqlite3\n",
    "import urllib.request       # Determine whether urllib, urllib2, or requests is best option\n",
    "\n",
    "\n",
    "# Access Basketball Reference to get league leaders in win shares for each season\n",
    "#specify the url\n",
    "site = \"https://www.basketball-reference.com/awards/hof.html\"\n",
    "#Query the website and return the html to the variable 'page'\n",
    "page = urllib.request.urlopen(site)\n",
    "#Parse the html in the 'page' variable and store it in Beautiful Soup format\n",
    "soup = BeautifulSoup(page)"
   ]
  },
  {
   "cell_type": "code",
   "execution_count": 148,
   "metadata": {
    "collapsed": false
   },
   "outputs": [],
   "source": [
    "# Create list of individual players from table of HOF players\n",
    "hof_table = soup.table.contents[6]('tr')"
   ]
  },
  {
   "cell_type": "code",
   "execution_count": 149,
   "metadata": {
    "collapsed": false
   },
   "outputs": [
    {
     "name": "stdout",
     "output_type": "stream",
     "text": [
      "<class 'bs4.element.Tag'>\n",
      "<tr><th class=\"right \" data-stat=\"year_id\" scope=\"row\">2018</th><td class=\"left \" csk=\"Allen,Ray\" data-stat=\"name_full\">Ray Allen   <span><a href=\"/players/a/allenra02.html\">Player</a> / <a href=\"/olympics/athletes/ray-allen-1\">Oly</a> / <a href=\"https://www.sports-reference.com/cbb/players/ray-allen-1.html\">CBB <sup>player</sup></a></span></td><td class=\"left \" csk=\"Player.Allen,Ray\" data-stat=\"category\">Player</td><td class=\"right \" data-stat=\"g\">1300</td><td class=\"right \" data-stat=\"pts_per_g\">18.9</td><td class=\"right \" data-stat=\"trb_per_g\">4.1</td><td class=\"right \" data-stat=\"ast_per_g\">3.4</td><td class=\"right \" data-stat=\"stl_per_g\">1.1</td><td class=\"right \" data-stat=\"blk_per_g\">0.2</td><td class=\"right \" data-stat=\"fg_pct\">.452</td><td class=\"right \" data-stat=\"fg3_pct\">.400</td><td class=\"right \" data-stat=\"ft_pct\">.894</td><td class=\"right \" data-stat=\"ws\">145.1</td><td class=\"right \" data-stat=\"ws_per_48\">.150</td><td class=\"right iz\" data-stat=\"xyz\"></td><td class=\"right iz\" data-stat=\"games\"></td><td class=\"right iz\" data-stat=\"wins\"></td><td class=\"right iz\" data-stat=\"losses\"></td><td class=\"right iz\" data-stat=\"win_loss_pct\"></td></tr>\n"
     ]
    }
   ],
   "source": [
    "# show format of hof_table elements\n",
    "print(type(hof_table[0]))\n",
    "print(hof_table[0])"
   ]
  },
  {
   "cell_type": "code",
   "execution_count": 150,
   "metadata": {
    "collapsed": false
   },
   "outputs": [
    {
     "name": "stdout",
     "output_type": "stream",
     "text": [
      "[<td class=\"left \" csk=\"Allen,Ray\" data-stat=\"name_full\">Ray Allen   <span><a href=\"/players/a/allenra02.html\">Player</a> / <a href=\"/olympics/athletes/ray-allen-1\">Oly</a> / <a href=\"https://www.sports-reference.com/cbb/players/ray-allen-1.html\">CBB <sup>player</sup></a></span></td>, <td class=\"left \" csk=\"Player.Allen,Ray\" data-stat=\"category\">Player</td>, <td class=\"right \" data-stat=\"g\">1300</td>, <td class=\"right \" data-stat=\"pts_per_g\">18.9</td>, <td class=\"right \" data-stat=\"trb_per_g\">4.1</td>, <td class=\"right \" data-stat=\"ast_per_g\">3.4</td>, <td class=\"right \" data-stat=\"stl_per_g\">1.1</td>, <td class=\"right \" data-stat=\"blk_per_g\">0.2</td>, <td class=\"right \" data-stat=\"fg_pct\">.452</td>, <td class=\"right \" data-stat=\"fg3_pct\">.400</td>, <td class=\"right \" data-stat=\"ft_pct\">.894</td>, <td class=\"right \" data-stat=\"ws\">145.1</td>, <td class=\"right \" data-stat=\"ws_per_48\">.150</td>, <td class=\"right iz\" data-stat=\"xyz\"></td>, <td class=\"right iz\" data-stat=\"games\"></td>, <td class=\"right iz\" data-stat=\"wins\"></td>, <td class=\"right iz\" data-stat=\"losses\"></td>, <td class=\"right iz\" data-stat=\"win_loss_pct\"></td>]\n",
      "\n",
      "\n",
      "[<a href=\"/players/a/allenra02.html\">Player</a>, <a href=\"/olympics/athletes/ray-allen-1\">Oly</a>, <a href=\"https://www.sports-reference.com/cbb/players/ray-allen-1.html\">CBB <sup>player</sup></a>]\n",
      "\n",
      "\n",
      "18\n",
      "511\n"
     ]
    }
   ],
   "source": [
    "print((hof_table[0]('td')))\n",
    "print('\\n')\n",
    "print(hof_table[0]('a'))\n",
    "print('\\n')\n",
    "print(len(hof_table[0]('td')))\n",
    "print(len(hof_table))"
   ]
  },
  {
   "cell_type": "code",
   "execution_count": 151,
   "metadata": {
    "collapsed": false
   },
   "outputs": [],
   "source": [
    "# make cleaner list of hofers\n",
    "hofers = []\n",
    "for i in hof_table:\n",
    "    if len(i('td')) > 0:\n",
    "        hofers.append(i('td'))"
   ]
  },
  {
   "cell_type": "code",
   "execution_count": 154,
   "metadata": {
    "collapsed": false
   },
   "outputs": [
    {
     "data": {
      "text/plain": [
       "bs4.element.ResultSet"
      ]
     },
     "execution_count": 154,
     "metadata": {},
     "output_type": "execute_result"
    }
   ],
   "source": [
    "# show hofers element format\n",
    "type"
   ]
  },
  {
   "cell_type": "code",
   "execution_count": 155,
   "metadata": {
    "collapsed": true
   },
   "outputs": [],
   "source": [
    "for player in hofers:\n",
    "    player[0]"
   ]
  },
  {
   "cell_type": "code",
   "execution_count": null,
   "metadata": {
    "collapsed": true
   },
   "outputs": [],
   "source": []
  }
 ],
 "metadata": {
  "kernelspec": {
   "display_name": "Python 3",
   "language": "python",
   "name": "python3"
  },
  "language_info": {
   "codemirror_mode": {
    "name": "ipython",
    "version": 3
   },
   "file_extension": ".py",
   "mimetype": "text/x-python",
   "name": "python",
   "nbconvert_exporter": "python",
   "pygments_lexer": "ipython3",
   "version": "3.6.7"
  }
 },
 "nbformat": 4,
 "nbformat_minor": 2
}
