{
 "cells": [
  {
   "cell_type": "code",
   "execution_count": 1,
   "metadata": {},
   "outputs": [],
   "source": [
    "import matplotlib.pyplot as plt\n",
    "import numpy as np\n",
    "import pandas as pd\n",
    "import seaborn as sns\n",
    "\n",
    "from cleaning import df"
   ]
  },
  {
   "cell_type": "code",
   "execution_count": 2,
   "metadata": {},
   "outputs": [],
   "source": [
    "# I am using min-max feature scaling normalization because\n",
    "# I want to compare player's stats relative to their apex.\n",
    "def normalize(ls):\n",
    "    '''Performs min-max feature scaling normalization on a sequence'''\n",
    "    return [(num - min(ls))/(max(ls)-min(ls)) for num in ls]"
   ]
  },
  {
   "cell_type": "code",
   "execution_count": 3,
   "metadata": {},
   "outputs": [
    {
     "data": {
      "text/html": [
       "<div>\n",
       "<style scoped>\n",
       "    .dataframe tbody tr th:only-of-type {\n",
       "        vertical-align: middle;\n",
       "    }\n",
       "\n",
       "    .dataframe tbody tr th {\n",
       "        vertical-align: top;\n",
       "    }\n",
       "\n",
       "    .dataframe thead th {\n",
       "        text-align: right;\n",
       "    }\n",
       "</style>\n",
       "<table border=\"1\" class=\"dataframe\">\n",
       "  <thead>\n",
       "    <tr style=\"text-align: right;\">\n",
       "      <th></th>\n",
       "      <th>allstar</th>\n",
       "      <th>ast</th>\n",
       "      <th>blk</th>\n",
       "      <th>drb</th>\n",
       "      <th>efgp</th>\n",
       "      <th>fg</th>\n",
       "      <th>fga</th>\n",
       "      <th>fgp</th>\n",
       "      <th>ft</th>\n",
       "      <th>fta</th>\n",
       "      <th>...</th>\n",
       "      <th>stl</th>\n",
       "      <th>threep</th>\n",
       "      <th>threepa</th>\n",
       "      <th>threepp</th>\n",
       "      <th>tov</th>\n",
       "      <th>trb</th>\n",
       "      <th>twop</th>\n",
       "      <th>twopa</th>\n",
       "      <th>twopp</th>\n",
       "      <th>years_in_league</th>\n",
       "    </tr>\n",
       "  </thead>\n",
       "  <tbody>\n",
       "    <tr>\n",
       "      <th>0</th>\n",
       "      <td>1.0</td>\n",
       "      <td>0.80</td>\n",
       "      <td>1.0000</td>\n",
       "      <td>1.000000</td>\n",
       "      <td>0.838710</td>\n",
       "      <td>1.000000</td>\n",
       "      <td>1.000000</td>\n",
       "      <td>0.838710</td>\n",
       "      <td>0.925926</td>\n",
       "      <td>1.000000</td>\n",
       "      <td>...</td>\n",
       "      <td>1.000000</td>\n",
       "      <td>NaN</td>\n",
       "      <td>NaN</td>\n",
       "      <td>0.0</td>\n",
       "      <td>1.000000</td>\n",
       "      <td>1.000000</td>\n",
       "      <td>1.000000</td>\n",
       "      <td>1.000000</td>\n",
       "      <td>0.837398</td>\n",
       "      <td>1</td>\n",
       "    </tr>\n",
       "    <tr>\n",
       "      <th>1</th>\n",
       "      <td>1.0</td>\n",
       "      <td>0.60</td>\n",
       "      <td>0.6875</td>\n",
       "      <td>0.696970</td>\n",
       "      <td>0.911290</td>\n",
       "      <td>0.859649</td>\n",
       "      <td>0.804878</td>\n",
       "      <td>0.911290</td>\n",
       "      <td>0.703704</td>\n",
       "      <td>0.694444</td>\n",
       "      <td>...</td>\n",
       "      <td>1.000000</td>\n",
       "      <td>NaN</td>\n",
       "      <td>NaN</td>\n",
       "      <td>0.0</td>\n",
       "      <td>0.705882</td>\n",
       "      <td>0.714286</td>\n",
       "      <td>0.859649</td>\n",
       "      <td>0.804878</td>\n",
       "      <td>0.910569</td>\n",
       "      <td>2</td>\n",
       "    </tr>\n",
       "    <tr>\n",
       "      <th>2</th>\n",
       "      <td>1.0</td>\n",
       "      <td>0.64</td>\n",
       "      <td>0.4375</td>\n",
       "      <td>0.636364</td>\n",
       "      <td>0.830645</td>\n",
       "      <td>0.842105</td>\n",
       "      <td>0.804878</td>\n",
       "      <td>0.830645</td>\n",
       "      <td>0.740741</td>\n",
       "      <td>0.750000</td>\n",
       "      <td>...</td>\n",
       "      <td>0.666667</td>\n",
       "      <td>NaN</td>\n",
       "      <td>NaN</td>\n",
       "      <td>0.0</td>\n",
       "      <td>0.882353</td>\n",
       "      <td>0.666667</td>\n",
       "      <td>0.842105</td>\n",
       "      <td>0.804878</td>\n",
       "      <td>0.829268</td>\n",
       "      <td>3</td>\n",
       "    </tr>\n",
       "    <tr>\n",
       "      <th>3</th>\n",
       "      <td>1.0</td>\n",
       "      <td>0.88</td>\n",
       "      <td>0.6250</td>\n",
       "      <td>0.818182</td>\n",
       "      <td>1.000000</td>\n",
       "      <td>0.877193</td>\n",
       "      <td>0.780488</td>\n",
       "      <td>1.000000</td>\n",
       "      <td>0.777778</td>\n",
       "      <td>0.777778</td>\n",
       "      <td>...</td>\n",
       "      <td>1.000000</td>\n",
       "      <td>NaN</td>\n",
       "      <td>NaN</td>\n",
       "      <td>0.0</td>\n",
       "      <td>0.705882</td>\n",
       "      <td>0.809524</td>\n",
       "      <td>0.877193</td>\n",
       "      <td>0.780488</td>\n",
       "      <td>1.000000</td>\n",
       "      <td>4</td>\n",
       "    </tr>\n",
       "    <tr>\n",
       "      <th>4</th>\n",
       "      <td>1.0</td>\n",
       "      <td>1.00</td>\n",
       "      <td>0.3125</td>\n",
       "      <td>0.393939</td>\n",
       "      <td>0.717742</td>\n",
       "      <td>0.947368</td>\n",
       "      <td>0.975610</td>\n",
       "      <td>0.717742</td>\n",
       "      <td>1.000000</td>\n",
       "      <td>0.944444</td>\n",
       "      <td>...</td>\n",
       "      <td>1.000000</td>\n",
       "      <td>NaN</td>\n",
       "      <td>NaN</td>\n",
       "      <td>0.0</td>\n",
       "      <td>0.764706</td>\n",
       "      <td>0.380952</td>\n",
       "      <td>0.947368</td>\n",
       "      <td>0.975610</td>\n",
       "      <td>0.715447</td>\n",
       "      <td>5</td>\n",
       "    </tr>\n",
       "  </tbody>\n",
       "</table>\n",
       "<p>5 rows × 28 columns</p>\n",
       "</div>"
      ],
      "text/plain": [
       "   allstar   ast     blk       drb      efgp        fg       fga       fgp  \\\n",
       "0      1.0  0.80  1.0000  1.000000  0.838710  1.000000  1.000000  0.838710   \n",
       "1      1.0  0.60  0.6875  0.696970  0.911290  0.859649  0.804878  0.911290   \n",
       "2      1.0  0.64  0.4375  0.636364  0.830645  0.842105  0.804878  0.830645   \n",
       "3      1.0  0.88  0.6250  0.818182  1.000000  0.877193  0.780488  1.000000   \n",
       "4      1.0  1.00  0.3125  0.393939  0.717742  0.947368  0.975610  0.717742   \n",
       "\n",
       "         ft       fta       ...              stl  threep  threepa  threepp  \\\n",
       "0  0.925926  1.000000       ...         1.000000     NaN      NaN      0.0   \n",
       "1  0.703704  0.694444       ...         1.000000     NaN      NaN      0.0   \n",
       "2  0.740741  0.750000       ...         0.666667     NaN      NaN      0.0   \n",
       "3  0.777778  0.777778       ...         1.000000     NaN      NaN      0.0   \n",
       "4  1.000000  0.944444       ...         1.000000     NaN      NaN      0.0   \n",
       "\n",
       "        tov       trb      twop     twopa     twopp  years_in_league  \n",
       "0  1.000000  1.000000  1.000000  1.000000  0.837398                1  \n",
       "1  0.705882  0.714286  0.859649  0.804878  0.910569                2  \n",
       "2  0.882353  0.666667  0.842105  0.804878  0.829268                3  \n",
       "3  0.705882  0.809524  0.877193  0.780488  1.000000                4  \n",
       "4  0.764706  0.380952  0.947368  0.975610  0.715447                5  \n",
       "\n",
       "[5 rows x 28 columns]"
      ]
     },
     "execution_count": 3,
     "metadata": {},
     "output_type": "execute_result"
    }
   ],
   "source": [
    "# create new dataframe with each players data normalized\n",
    "# against every season in their career\n",
    "unique = df['player'].unique()\n",
    "all_norm_df = pd.DataFrame()\n",
    "for player in unique:\n",
    "    pnormdf = pd.DataFrame()\n",
    "    playerdf = df[df['player'] == player]\n",
    "    years_in_league = np.array(range(1, len(playerdf)+1))\n",
    "    for col in playerdf:    \n",
    "        if playerdf[col].dtypes == np.float64:\n",
    "            statdf = playerdf[col]\n",
    "            try:\n",
    "                normdf = pd.DataFrame({col:normalize(statdf)})\n",
    "                pnormdf = pd.concat([pnormdf, normdf], axis=1)\n",
    "            except:\n",
    "                pass\n",
    "    pnormdf['allstar'] = playerdf['allstar']\n",
    "    pnormdf['player'] = player\n",
    "    pnormdf['years_in_league'] = years_in_league\n",
    "    all_norm_df = pd.concat([all_norm_df, pnormdf])\n",
    "all_norm_df.head()"
   ]
  },
  {
   "cell_type": "code",
   "execution_count": 4,
   "metadata": {},
   "outputs": [
    {
     "data": {
      "text/plain": [
       "Index(['allstar', 'ast', 'blk', 'drb', 'efgp', 'fg', 'fga', 'fgp', 'ft', 'fta',\n",
       "       'ftp', 'g', 'gs', 'mp', 'orb', 'pf', 'player', 'pts', 'stl', 'threep',\n",
       "       'threepa', 'threepp', 'tov', 'trb', 'twop', 'twopa', 'twopp',\n",
       "       'years_in_league'],\n",
       "      dtype='object')"
      ]
     },
     "execution_count": 4,
     "metadata": {},
     "output_type": "execute_result"
    }
   ],
   "source": [
    "all_norm_df.columns\n"
   ]
  },
  {
   "cell_type": "code",
   "execution_count": null,
   "metadata": {},
   "outputs": [],
   "source": []
  },
  {
   "cell_type": "code",
   "execution_count": null,
   "metadata": {},
   "outputs": [],
   "source": []
  },
  {
   "cell_type": "code",
   "execution_count": 5,
   "metadata": {},
   "outputs": [
    {
     "data": {
      "text/plain": [
       "Index(['player', 'years_in_league', 'allstar', 'ast', 'blk', 'drb', 'efgp',\n",
       "       'fg', 'fga', 'fgp', 'ft', 'fta', 'ftp', 'g', 'gs', 'mp', 'orb', 'pf',\n",
       "       'pts', 'stl', 'threep', 'threepa', 'threepp', 'tov', 'trb', 'twop',\n",
       "       'twopa', 'twopp'],\n",
       "      dtype='object')"
      ]
     },
     "execution_count": 5,
     "metadata": {},
     "output_type": "execute_result"
    }
   ],
   "source": [
    "#rearrange order of dataframe so name and years_in_league are first columns\n",
    "columns = list(all_norm_df.columns)\n",
    "columns = ['player', 'years_in_league'] + columns\n",
    "columns.pop(18)\n",
    "columns.pop()\n",
    "all_norm_df = all_norm_df[columns]\n",
    "all_norm_df = all_norm_df.reset_index(drop=True)\n",
    "all_norm_df.columns"
   ]
  },
  {
   "cell_type": "code",
   "execution_count": 6,
   "metadata": {
    "scrolled": true
   },
   "outputs": [],
   "source": [
    "# create individual normalized season sum column\n",
    "s = [row[2:].sum() for i, row in all_norm_df.iterrows()]\n",
    "season_sum = pd.DataFrame({'season_sum':s})"
   ]
  },
  {
   "cell_type": "code",
   "execution_count": 7,
   "metadata": {},
   "outputs": [],
   "source": [
    "# create individual normalized season average column\n",
    "# the average performance in each statistic\n",
    "m = [row[2:].mean() for i, row in all_norm_df.iterrows()]\n",
    "season_mean = pd.DataFrame({'season_mean':m})"
   ]
  },
  {
   "cell_type": "code",
   "execution_count": 8,
   "metadata": {},
   "outputs": [],
   "source": [
    "statistic_df = pd.concat([all_norm_df[['player', 'years_in_league']],\n",
    "                          season_sum, season_mean], axis=1)"
   ]
  },
  {
   "cell_type": "code",
   "execution_count": 9,
   "metadata": {},
   "outputs": [
    {
     "data": {
      "text/html": [
       "<div>\n",
       "<style scoped>\n",
       "    .dataframe tbody tr th:only-of-type {\n",
       "        vertical-align: middle;\n",
       "    }\n",
       "\n",
       "    .dataframe tbody tr th {\n",
       "        vertical-align: top;\n",
       "    }\n",
       "\n",
       "    .dataframe thead th {\n",
       "        text-align: right;\n",
       "    }\n",
       "</style>\n",
       "<table border=\"1\" class=\"dataframe\">\n",
       "  <thead>\n",
       "    <tr style=\"text-align: right;\">\n",
       "      <th></th>\n",
       "      <th>player</th>\n",
       "      <th>years_in_league</th>\n",
       "      <th>season_sum</th>\n",
       "      <th>season_mean</th>\n",
       "    </tr>\n",
       "  </thead>\n",
       "  <tbody>\n",
       "    <tr>\n",
       "      <th>0</th>\n",
       "      <td>Kareem Abdul-Jabbar</td>\n",
       "      <td>1</td>\n",
       "      <td>19.507410</td>\n",
       "      <td>0.812809</td>\n",
       "    </tr>\n",
       "    <tr>\n",
       "      <th>1</th>\n",
       "      <td>Kareem Abdul-Jabbar</td>\n",
       "      <td>2</td>\n",
       "      <td>18.050302</td>\n",
       "      <td>0.752096</td>\n",
       "    </tr>\n",
       "    <tr>\n",
       "      <th>2</th>\n",
       "      <td>Kareem Abdul-Jabbar</td>\n",
       "      <td>3</td>\n",
       "      <td>16.901694</td>\n",
       "      <td>0.704237</td>\n",
       "    </tr>\n",
       "    <tr>\n",
       "      <th>3</th>\n",
       "      <td>Kareem Abdul-Jabbar</td>\n",
       "      <td>4</td>\n",
       "      <td>19.102475</td>\n",
       "      <td>0.795936</td>\n",
       "    </tr>\n",
       "    <tr>\n",
       "      <th>4</th>\n",
       "      <td>Kareem Abdul-Jabbar</td>\n",
       "      <td>5</td>\n",
       "      <td>18.602726</td>\n",
       "      <td>0.775114</td>\n",
       "    </tr>\n",
       "    <tr>\n",
       "      <th>5</th>\n",
       "      <td>Kareem Abdul-Jabbar</td>\n",
       "      <td>6</td>\n",
       "      <td>14.262553</td>\n",
       "      <td>0.594273</td>\n",
       "    </tr>\n",
       "    <tr>\n",
       "      <th>6</th>\n",
       "      <td>Kareem Abdul-Jabbar</td>\n",
       "      <td>7</td>\n",
       "      <td>10.230297</td>\n",
       "      <td>0.426262</td>\n",
       "    </tr>\n",
       "    <tr>\n",
       "      <th>7</th>\n",
       "      <td>Kareem Abdul-Jabbar</td>\n",
       "      <td>8</td>\n",
       "      <td>1.559322</td>\n",
       "      <td>0.064972</td>\n",
       "    </tr>\n",
       "    <tr>\n",
       "      <th>8</th>\n",
       "      <td>Michael Jordan</td>\n",
       "      <td>1</td>\n",
       "      <td>14.737351</td>\n",
       "      <td>0.589494</td>\n",
       "    </tr>\n",
       "    <tr>\n",
       "      <th>9</th>\n",
       "      <td>Michael Jordan</td>\n",
       "      <td>2</td>\n",
       "      <td>5.414988</td>\n",
       "      <td>0.216600</td>\n",
       "    </tr>\n",
       "  </tbody>\n",
       "</table>\n",
       "</div>"
      ],
      "text/plain": [
       "                player  years_in_league  season_sum  season_mean\n",
       "0  Kareem Abdul-Jabbar                1   19.507410     0.812809\n",
       "1  Kareem Abdul-Jabbar                2   18.050302     0.752096\n",
       "2  Kareem Abdul-Jabbar                3   16.901694     0.704237\n",
       "3  Kareem Abdul-Jabbar                4   19.102475     0.795936\n",
       "4  Kareem Abdul-Jabbar                5   18.602726     0.775114\n",
       "5  Kareem Abdul-Jabbar                6   14.262553     0.594273\n",
       "6  Kareem Abdul-Jabbar                7   10.230297     0.426262\n",
       "7  Kareem Abdul-Jabbar                8    1.559322     0.064972\n",
       "8       Michael Jordan                1   14.737351     0.589494\n",
       "9       Michael Jordan                2    5.414988     0.216600"
      ]
     },
     "execution_count": 9,
     "metadata": {},
     "output_type": "execute_result"
    }
   ],
   "source": [
    "statistic_df.head(10)"
   ]
  },
  {
   "cell_type": "markdown",
   "metadata": {},
   "source": []
  },
  {
   "cell_type": "code",
   "execution_count": 10,
   "metadata": {},
   "outputs": [
    {
     "data": {
      "text/html": [
       "<div>\n",
       "<style scoped>\n",
       "    .dataframe tbody tr th:only-of-type {\n",
       "        vertical-align: middle;\n",
       "    }\n",
       "\n",
       "    .dataframe tbody tr th {\n",
       "        vertical-align: top;\n",
       "    }\n",
       "\n",
       "    .dataframe thead th {\n",
       "        text-align: right;\n",
       "    }\n",
       "</style>\n",
       "<table border=\"1\" class=\"dataframe\">\n",
       "  <thead>\n",
       "    <tr style=\"text-align: right;\">\n",
       "      <th></th>\n",
       "      <th>years_in_league</th>\n",
       "      <th>season_sum</th>\n",
       "      <th>season_mean</th>\n",
       "    </tr>\n",
       "  </thead>\n",
       "  <tbody>\n",
       "    <tr>\n",
       "      <th>count</th>\n",
       "      <td>2672.000000</td>\n",
       "      <td>2672.000000</td>\n",
       "      <td>2672.000000</td>\n",
       "    </tr>\n",
       "    <tr>\n",
       "      <th>mean</th>\n",
       "      <td>7.226796</td>\n",
       "      <td>13.455716</td>\n",
       "      <td>0.543384</td>\n",
       "    </tr>\n",
       "    <tr>\n",
       "      <th>std</th>\n",
       "      <td>4.452106</td>\n",
       "      <td>5.236947</td>\n",
       "      <td>0.211560</td>\n",
       "    </tr>\n",
       "    <tr>\n",
       "      <th>min</th>\n",
       "      <td>1.000000</td>\n",
       "      <td>0.000000</td>\n",
       "      <td>0.000000</td>\n",
       "    </tr>\n",
       "    <tr>\n",
       "      <th>25%</th>\n",
       "      <td>4.000000</td>\n",
       "      <td>9.996692</td>\n",
       "      <td>0.404535</td>\n",
       "    </tr>\n",
       "    <tr>\n",
       "      <th>50%</th>\n",
       "      <td>7.000000</td>\n",
       "      <td>14.395680</td>\n",
       "      <td>0.580985</td>\n",
       "    </tr>\n",
       "    <tr>\n",
       "      <th>75%</th>\n",
       "      <td>10.000000</td>\n",
       "      <td>17.554647</td>\n",
       "      <td>0.710124</td>\n",
       "    </tr>\n",
       "    <tr>\n",
       "      <th>max</th>\n",
       "      <td>21.000000</td>\n",
       "      <td>23.690476</td>\n",
       "      <td>0.959595</td>\n",
       "    </tr>\n",
       "  </tbody>\n",
       "</table>\n",
       "</div>"
      ],
      "text/plain": [
       "       years_in_league   season_sum  season_mean\n",
       "count      2672.000000  2672.000000  2672.000000\n",
       "mean          7.226796    13.455716     0.543384\n",
       "std           4.452106     5.236947     0.211560\n",
       "min           1.000000     0.000000     0.000000\n",
       "25%           4.000000     9.996692     0.404535\n",
       "50%           7.000000    14.395680     0.580985\n",
       "75%          10.000000    17.554647     0.710124\n",
       "max          21.000000    23.690476     0.959595"
      ]
     },
     "execution_count": 10,
     "metadata": {},
     "output_type": "execute_result"
    }
   ],
   "source": [
    "statistic_df.describe()\n"
   ]
  },
  {
   "cell_type": "code",
   "execution_count": 11,
   "metadata": {},
   "outputs": [
    {
     "data": {
      "text/plain": [
       "<matplotlib.axes._subplots.AxesSubplot at 0x22a07f4b2b0>"
      ]
     },
     "execution_count": 11,
     "metadata": {},
     "output_type": "execute_result"
    },
    {
     "data": {
      "image/png": "[encoded data removed]",
      "text/plain": [
       "<matplotlib.figure.Figure at 0x22a07f4d0b8>"
      ]
     },
     "metadata": {
      "needs_background": "light"
     },
     "output_type": "display_data"
    }
   ],
   "source": [
    "statistic_df['season_sum'].plot(kind='hist', bins=10, alpha=0.5, normed=True)\n"
   ]
  },
  {
   "cell_type": "code",
   "execution_count": 12,
   "metadata": {},
   "outputs": [
    {
     "data": {
      "text/plain": [
       "<matplotlib.axes._subplots.AxesSubplot at 0x22a0902b358>"
      ]
     },
     "execution_count": 12,
     "metadata": {},
     "output_type": "execute_result"
    },
    {
     "data": {
      "image/png": "[encoded data removed]",
      "text/plain": [
       "<matplotlib.figure.Figure at 0x22a07e45128>"
      ]
     },
     "metadata": {
      "needs_background": "light"
     },
     "output_type": "display_data"
    }
   ],
   "source": [
    "statistic_df['season_mean'].plot(kind='hist', bins=10, alpha=.75, normed=True)"
   ]
  },
  {
   "cell_type": "code",
   "execution_count": 13,
   "metadata": {},
   "outputs": [
    {
     "data": {
      "text/html": [
       "<div>\n",
       "<style scoped>\n",
       "    .dataframe tbody tr th:only-of-type {\n",
       "        vertical-align: middle;\n",
       "    }\n",
       "\n",
       "    .dataframe tbody tr th {\n",
       "        vertical-align: top;\n",
       "    }\n",
       "\n",
       "    .dataframe thead th {\n",
       "        text-align: right;\n",
       "    }\n",
       "</style>\n",
       "<table border=\"1\" class=\"dataframe\">\n",
       "  <thead>\n",
       "    <tr style=\"text-align: right;\">\n",
       "      <th></th>\n",
       "      <th>player</th>\n",
       "      <th>href</th>\n",
       "      <th>height</th>\n",
       "      <th>age</th>\n",
       "      <th>tm</th>\n",
       "      <th>lg</th>\n",
       "      <th>pos</th>\n",
       "      <th>g</th>\n",
       "      <th>gs</th>\n",
       "      <th>mp</th>\n",
       "      <th>...</th>\n",
       "      <th>orb</th>\n",
       "      <th>drb</th>\n",
       "      <th>trb</th>\n",
       "      <th>ast</th>\n",
       "      <th>stl</th>\n",
       "      <th>blk</th>\n",
       "      <th>tov</th>\n",
       "      <th>pf</th>\n",
       "      <th>pts</th>\n",
       "      <th>allstar</th>\n",
       "    </tr>\n",
       "  </thead>\n",
       "  <tbody>\n",
       "    <tr>\n",
       "      <th>0</th>\n",
       "      <td>Kareem Abdul-Jabbar</td>\n",
       "      <td>/players/a/abdulka01.html</td>\n",
       "      <td>86.0</td>\n",
       "      <td>34</td>\n",
       "      <td>LAL</td>\n",
       "      <td>NBA</td>\n",
       "      <td>C</td>\n",
       "      <td>76.0</td>\n",
       "      <td>76.0</td>\n",
       "      <td>35.2</td>\n",
       "      <td>...</td>\n",
       "      <td>2.3</td>\n",
       "      <td>6.4</td>\n",
       "      <td>8.7</td>\n",
       "      <td>3.0</td>\n",
       "      <td>0.8</td>\n",
       "      <td>2.7</td>\n",
       "      <td>3.0</td>\n",
       "      <td>2.9</td>\n",
       "      <td>23.9</td>\n",
       "      <td>1</td>\n",
       "    </tr>\n",
       "    <tr>\n",
       "      <th>1</th>\n",
       "      <td>Kareem Abdul-Jabbar</td>\n",
       "      <td>/players/a/abdulka01.html</td>\n",
       "      <td>86.0</td>\n",
       "      <td>35</td>\n",
       "      <td>LAL</td>\n",
       "      <td>NBA</td>\n",
       "      <td>C</td>\n",
       "      <td>79.0</td>\n",
       "      <td>79.0</td>\n",
       "      <td>32.3</td>\n",
       "      <td>...</td>\n",
       "      <td>2.1</td>\n",
       "      <td>5.4</td>\n",
       "      <td>7.5</td>\n",
       "      <td>2.5</td>\n",
       "      <td>0.8</td>\n",
       "      <td>2.2</td>\n",
       "      <td>2.5</td>\n",
       "      <td>2.8</td>\n",
       "      <td>21.8</td>\n",
       "      <td>1</td>\n",
       "    </tr>\n",
       "    <tr>\n",
       "      <th>2</th>\n",
       "      <td>Kareem Abdul-Jabbar</td>\n",
       "      <td>/players/a/abdulka01.html</td>\n",
       "      <td>86.0</td>\n",
       "      <td>36</td>\n",
       "      <td>LAL</td>\n",
       "      <td>NBA</td>\n",
       "      <td>C</td>\n",
       "      <td>80.0</td>\n",
       "      <td>80.0</td>\n",
       "      <td>32.8</td>\n",
       "      <td>...</td>\n",
       "      <td>2.1</td>\n",
       "      <td>5.2</td>\n",
       "      <td>7.3</td>\n",
       "      <td>2.6</td>\n",
       "      <td>0.7</td>\n",
       "      <td>1.8</td>\n",
       "      <td>2.8</td>\n",
       "      <td>2.6</td>\n",
       "      <td>21.5</td>\n",
       "      <td>1</td>\n",
       "    </tr>\n",
       "    <tr>\n",
       "      <th>3</th>\n",
       "      <td>Kareem Abdul-Jabbar</td>\n",
       "      <td>/players/a/abdulka01.html</td>\n",
       "      <td>86.0</td>\n",
       "      <td>37</td>\n",
       "      <td>LAL</td>\n",
       "      <td>NBA</td>\n",
       "      <td>C</td>\n",
       "      <td>79.0</td>\n",
       "      <td>79.0</td>\n",
       "      <td>33.3</td>\n",
       "      <td>...</td>\n",
       "      <td>2.1</td>\n",
       "      <td>5.8</td>\n",
       "      <td>7.9</td>\n",
       "      <td>3.2</td>\n",
       "      <td>0.8</td>\n",
       "      <td>2.1</td>\n",
       "      <td>2.5</td>\n",
       "      <td>3.0</td>\n",
       "      <td>22.0</td>\n",
       "      <td>1</td>\n",
       "    </tr>\n",
       "    <tr>\n",
       "      <th>4</th>\n",
       "      <td>Kareem Abdul-Jabbar</td>\n",
       "      <td>/players/a/abdulka01.html</td>\n",
       "      <td>86.0</td>\n",
       "      <td>38</td>\n",
       "      <td>LAL</td>\n",
       "      <td>NBA</td>\n",
       "      <td>C</td>\n",
       "      <td>79.0</td>\n",
       "      <td>79.0</td>\n",
       "      <td>33.3</td>\n",
       "      <td>...</td>\n",
       "      <td>1.7</td>\n",
       "      <td>4.4</td>\n",
       "      <td>6.1</td>\n",
       "      <td>3.5</td>\n",
       "      <td>0.8</td>\n",
       "      <td>1.6</td>\n",
       "      <td>2.6</td>\n",
       "      <td>3.1</td>\n",
       "      <td>23.4</td>\n",
       "      <td>1</td>\n",
       "    </tr>\n",
       "  </tbody>\n",
       "</table>\n",
       "<p>5 rows × 33 columns</p>\n",
       "</div>"
      ],
      "text/plain": [
       "                player                       href  height  age   tm   lg pos  \\\n",
       "0  Kareem Abdul-Jabbar  /players/a/abdulka01.html    86.0   34  LAL  NBA   C   \n",
       "1  Kareem Abdul-Jabbar  /players/a/abdulka01.html    86.0   35  LAL  NBA   C   \n",
       "2  Kareem Abdul-Jabbar  /players/a/abdulka01.html    86.0   36  LAL  NBA   C   \n",
       "3  Kareem Abdul-Jabbar  /players/a/abdulka01.html    86.0   37  LAL  NBA   C   \n",
       "4  Kareem Abdul-Jabbar  /players/a/abdulka01.html    86.0   38  LAL  NBA   C   \n",
       "\n",
       "      g    gs    mp   ...     orb  drb  trb  ast  stl  blk  tov   pf   pts  \\\n",
       "0  76.0  76.0  35.2   ...     2.3  6.4  8.7  3.0  0.8  2.7  3.0  2.9  23.9   \n",
       "1  79.0  79.0  32.3   ...     2.1  5.4  7.5  2.5  0.8  2.2  2.5  2.8  21.8   \n",
       "2  80.0  80.0  32.8   ...     2.1  5.2  7.3  2.6  0.7  1.8  2.8  2.6  21.5   \n",
       "3  79.0  79.0  33.3   ...     2.1  5.8  7.9  3.2  0.8  2.1  2.5  3.0  22.0   \n",
       "4  79.0  79.0  33.3   ...     1.7  4.4  6.1  3.5  0.8  1.6  2.6  3.1  23.4   \n",
       "\n",
       "   allstar  \n",
       "0        1  \n",
       "1        1  \n",
       "2        1  \n",
       "3        1  \n",
       "4        1  \n",
       "\n",
       "[5 rows x 33 columns]"
      ]
     },
     "execution_count": 13,
     "metadata": {},
     "output_type": "execute_result"
    }
   ],
   "source": [
    "df.head()"
   ]
  },
  {
   "cell_type": "markdown",
   "metadata": {},
   "source": [
    "# What if I look at how many categories a player exceeds the overall average, and then if they have enough totals above the average, then they are in their prime."
   ]
  },
  {
   "cell_type": "markdown",
   "metadata": {},
   "source": [
    "I wanted to set a cutoff for a players performance, so I used the quantile function. I compared every season statistic to the cutoff number and returned True or False."
   ]
  },
  {
   "cell_type": "code",
   "execution_count": 65,
   "metadata": {},
   "outputs": [
    {
     "data": {
      "text/plain": [
       "fg          7.40000\n",
       "fga        15.70000\n",
       "fgp         0.50300\n",
       "threep      1.30000\n",
       "threepa     3.70000\n",
       "threepp     0.37100\n",
       "twop        6.70000\n",
       "twopa      13.40000\n",
       "twopp       0.52100\n",
       "efgp        0.53100\n",
       "ft          4.30000\n",
       "fta         5.50000\n",
       "ftp         0.83925\n",
       "orb         2.20000\n",
       "drb         5.52500\n",
       "trb         7.60000\n",
       "ast         4.90000\n",
       "stl         1.40000\n",
       "blk         0.90000\n",
       "tov         2.70000\n",
       "pf          2.80000\n",
       "pts        19.90000\n",
       "allstar     1.00000\n",
       "Name: 0.75, dtype: float64"
      ]
     },
     "execution_count": 65,
     "metadata": {},
     "output_type": "execute_result"
    }
   ],
   "source": [
    "cutoff =  df.quantile(.75)\n",
    "cutoff = cutoff.drop(index=['height', 'age', 'g', 'gs', 'mp'])\n",
    "columns = list(cutoff.index)\n",
    "cutoff"
   ]
  },
  {
   "cell_type": "code",
   "execution_count": 66,
   "metadata": {},
   "outputs": [
    {
     "data": {
      "text/plain": [
       "(2672, 23)"
      ]
     },
     "execution_count": 66,
     "metadata": {},
     "output_type": "execute_result"
    }
   ],
   "source": [
    "above = pd.DataFrame()\n",
    "for col in columns:\n",
    "    over = df[col] > cutoff[col]\n",
    "    above = pd.concat([above, over], axis=1)\n",
    "above.shape"
   ]
  },
  {
   "cell_type": "code",
   "execution_count": 67,
   "metadata": {},
   "outputs": [
    {
     "data": {
      "text/html": [
       "<div>\n",
       "<style scoped>\n",
       "    .dataframe tbody tr th:only-of-type {\n",
       "        vertical-align: middle;\n",
       "    }\n",
       "\n",
       "    .dataframe tbody tr th {\n",
       "        vertical-align: top;\n",
       "    }\n",
       "\n",
       "    .dataframe thead th {\n",
       "        text-align: right;\n",
       "    }\n",
       "</style>\n",
       "<table border=\"1\" class=\"dataframe\">\n",
       "  <thead>\n",
       "    <tr style=\"text-align: right;\">\n",
       "      <th></th>\n",
       "      <th>fg</th>\n",
       "      <th>fga</th>\n",
       "      <th>fgp</th>\n",
       "      <th>threep</th>\n",
       "      <th>threepa</th>\n",
       "      <th>threepp</th>\n",
       "      <th>twop</th>\n",
       "      <th>twopa</th>\n",
       "      <th>twopp</th>\n",
       "      <th>efgp</th>\n",
       "      <th>...</th>\n",
       "      <th>drb</th>\n",
       "      <th>trb</th>\n",
       "      <th>ast</th>\n",
       "      <th>stl</th>\n",
       "      <th>blk</th>\n",
       "      <th>tov</th>\n",
       "      <th>pf</th>\n",
       "      <th>pts</th>\n",
       "      <th>allstar</th>\n",
       "      <th>sum</th>\n",
       "    </tr>\n",
       "  </thead>\n",
       "  <tbody>\n",
       "    <tr>\n",
       "      <th>0</th>\n",
       "      <td>True</td>\n",
       "      <td>True</td>\n",
       "      <td>True</td>\n",
       "      <td>False</td>\n",
       "      <td>False</td>\n",
       "      <td>False</td>\n",
       "      <td>True</td>\n",
       "      <td>True</td>\n",
       "      <td>True</td>\n",
       "      <td>True</td>\n",
       "      <td>...</td>\n",
       "      <td>True</td>\n",
       "      <td>True</td>\n",
       "      <td>False</td>\n",
       "      <td>False</td>\n",
       "      <td>True</td>\n",
       "      <td>True</td>\n",
       "      <td>True</td>\n",
       "      <td>True</td>\n",
       "      <td>False</td>\n",
       "      <td>15</td>\n",
       "    </tr>\n",
       "    <tr>\n",
       "      <th>1</th>\n",
       "      <td>True</td>\n",
       "      <td>False</td>\n",
       "      <td>True</td>\n",
       "      <td>False</td>\n",
       "      <td>False</td>\n",
       "      <td>False</td>\n",
       "      <td>True</td>\n",
       "      <td>True</td>\n",
       "      <td>True</td>\n",
       "      <td>True</td>\n",
       "      <td>...</td>\n",
       "      <td>False</td>\n",
       "      <td>False</td>\n",
       "      <td>False</td>\n",
       "      <td>False</td>\n",
       "      <td>True</td>\n",
       "      <td>False</td>\n",
       "      <td>False</td>\n",
       "      <td>True</td>\n",
       "      <td>False</td>\n",
       "      <td>8</td>\n",
       "    </tr>\n",
       "    <tr>\n",
       "      <th>2</th>\n",
       "      <td>True</td>\n",
       "      <td>False</td>\n",
       "      <td>True</td>\n",
       "      <td>False</td>\n",
       "      <td>False</td>\n",
       "      <td>False</td>\n",
       "      <td>True</td>\n",
       "      <td>True</td>\n",
       "      <td>True</td>\n",
       "      <td>True</td>\n",
       "      <td>...</td>\n",
       "      <td>False</td>\n",
       "      <td>False</td>\n",
       "      <td>False</td>\n",
       "      <td>False</td>\n",
       "      <td>True</td>\n",
       "      <td>True</td>\n",
       "      <td>False</td>\n",
       "      <td>True</td>\n",
       "      <td>False</td>\n",
       "      <td>9</td>\n",
       "    </tr>\n",
       "    <tr>\n",
       "      <th>3</th>\n",
       "      <td>True</td>\n",
       "      <td>False</td>\n",
       "      <td>True</td>\n",
       "      <td>False</td>\n",
       "      <td>False</td>\n",
       "      <td>False</td>\n",
       "      <td>True</td>\n",
       "      <td>True</td>\n",
       "      <td>True</td>\n",
       "      <td>True</td>\n",
       "      <td>...</td>\n",
       "      <td>True</td>\n",
       "      <td>True</td>\n",
       "      <td>False</td>\n",
       "      <td>False</td>\n",
       "      <td>True</td>\n",
       "      <td>False</td>\n",
       "      <td>True</td>\n",
       "      <td>True</td>\n",
       "      <td>False</td>\n",
       "      <td>11</td>\n",
       "    </tr>\n",
       "    <tr>\n",
       "      <th>4</th>\n",
       "      <td>True</td>\n",
       "      <td>True</td>\n",
       "      <td>True</td>\n",
       "      <td>False</td>\n",
       "      <td>False</td>\n",
       "      <td>False</td>\n",
       "      <td>True</td>\n",
       "      <td>True</td>\n",
       "      <td>True</td>\n",
       "      <td>True</td>\n",
       "      <td>...</td>\n",
       "      <td>False</td>\n",
       "      <td>False</td>\n",
       "      <td>False</td>\n",
       "      <td>False</td>\n",
       "      <td>True</td>\n",
       "      <td>False</td>\n",
       "      <td>True</td>\n",
       "      <td>True</td>\n",
       "      <td>False</td>\n",
       "      <td>11</td>\n",
       "    </tr>\n",
       "  </tbody>\n",
       "</table>\n",
       "<p>5 rows × 24 columns</p>\n",
       "</div>"
      ],
      "text/plain": [
       "     fg    fga   fgp  threep  threepa  threepp  twop  twopa  twopp  efgp ...   \\\n",
       "0  True   True  True   False    False    False  True   True   True  True ...    \n",
       "1  True  False  True   False    False    False  True   True   True  True ...    \n",
       "2  True  False  True   False    False    False  True   True   True  True ...    \n",
       "3  True  False  True   False    False    False  True   True   True  True ...    \n",
       "4  True   True  True   False    False    False  True   True   True  True ...    \n",
       "\n",
       "     drb    trb    ast    stl   blk    tov     pf   pts  allstar  sum  \n",
       "0   True   True  False  False  True   True   True  True    False   15  \n",
       "1  False  False  False  False  True  False  False  True    False    8  \n",
       "2  False  False  False  False  True   True  False  True    False    9  \n",
       "3   True   True  False  False  True  False   True  True    False   11  \n",
       "4  False  False  False  False  True  False   True  True    False   11  \n",
       "\n",
       "[5 rows x 24 columns]"
      ]
     },
     "execution_count": 67,
     "metadata": {},
     "output_type": "execute_result"
    }
   ],
   "source": [
    "sums = pd.DataFrame({'sum':[sum(row) for i, row in above.iterrows()]})\n",
    "sums = sums.set_index(above.index)\n",
    "above = pd.concat([above, sums], axis=1)\n",
    "above.head()"
   ]
  },
  {
   "cell_type": "code",
   "execution_count": 68,
   "metadata": {},
   "outputs": [
    {
     "data": {
      "text/html": [
       "<div>\n",
       "<style scoped>\n",
       "    .dataframe tbody tr th:only-of-type {\n",
       "        vertical-align: middle;\n",
       "    }\n",
       "\n",
       "    .dataframe tbody tr th {\n",
       "        vertical-align: top;\n",
       "    }\n",
       "\n",
       "    .dataframe thead th {\n",
       "        text-align: right;\n",
       "    }\n",
       "</style>\n",
       "<table border=\"1\" class=\"dataframe\">\n",
       "  <thead>\n",
       "    <tr style=\"text-align: right;\">\n",
       "      <th></th>\n",
       "      <th>sum</th>\n",
       "    </tr>\n",
       "  </thead>\n",
       "  <tbody>\n",
       "    <tr>\n",
       "      <th>count</th>\n",
       "      <td>2672.000000</td>\n",
       "    </tr>\n",
       "    <tr>\n",
       "      <th>mean</th>\n",
       "      <td>5.379117</td>\n",
       "    </tr>\n",
       "    <tr>\n",
       "      <th>std</th>\n",
       "      <td>4.203676</td>\n",
       "    </tr>\n",
       "    <tr>\n",
       "      <th>min</th>\n",
       "      <td>0.000000</td>\n",
       "    </tr>\n",
       "    <tr>\n",
       "      <th>25%</th>\n",
       "      <td>2.000000</td>\n",
       "    </tr>\n",
       "    <tr>\n",
       "      <th>50%</th>\n",
       "      <td>4.000000</td>\n",
       "    </tr>\n",
       "    <tr>\n",
       "      <th>75%</th>\n",
       "      <td>8.000000</td>\n",
       "    </tr>\n",
       "    <tr>\n",
       "      <th>max</th>\n",
       "      <td>18.000000</td>\n",
       "    </tr>\n",
       "  </tbody>\n",
       "</table>\n",
       "</div>"
      ],
      "text/plain": [
       "               sum\n",
       "count  2672.000000\n",
       "mean      5.379117\n",
       "std       4.203676\n",
       "min       0.000000\n",
       "25%       2.000000\n",
       "50%       4.000000\n",
       "75%       8.000000\n",
       "max      18.000000"
      ]
     },
     "execution_count": 68,
     "metadata": {},
     "output_type": "execute_result"
    }
   ],
   "source": [
    "above.describe()"
   ]
  },
  {
   "cell_type": "code",
   "execution_count": 90,
   "metadata": {},
   "outputs": [
    {
     "data": {
      "text/plain": [
       "<matplotlib.axes._subplots.AxesSubplot at 0x22a0bf8b358>"
      ]
     },
     "execution_count": 90,
     "metadata": {},
     "output_type": "execute_result"
    },
    {
     "data": {
      "image/png": "[encoded data removed]",
      "text/plain": [
       "<matplotlib.figure.Figure at 0x22a0bfc7dd8>"
      ]
     },
     "metadata": {
      "needs_background": "light"
     },
     "output_type": "display_data"
    }
   ],
   "source": [
    "joined = df.join(above, rsuffix='_above')\n",
    "joined['sum'].plot(kind='hist', bins=8, alpha=.5, normed=True)"
   ]
  },
  {
   "cell_type": "code",
   "execution_count": 91,
   "metadata": {},
   "outputs": [
    {
     "data": {
      "text/plain": [
       "<matplotlib.axes._subplots.AxesSubplot at 0x22a0c0b6cf8>"
      ]
     },
     "execution_count": 91,
     "metadata": {},
     "output_type": "execute_result"
    },
    {
     "data": {
      "image/png": "[encoded data removed]",
      "text/plain": [
       "<matplotlib.figure.Figure at 0x22a0bde9be0>"
      ]
     },
     "metadata": {
      "needs_background": "light"
     },
     "output_type": "display_data"
    }
   ],
   "source": [
    "joined['sum'].plot(kind='hist', bins=8, cumulative=True, alpha=.4)\n"
   ]
  },
  {
   "cell_type": "code",
   "execution_count": null,
   "metadata": {},
   "outputs": [],
   "source": []
  },
  {
   "cell_type": "code",
   "execution_count": null,
   "metadata": {},
   "outputs": [],
   "source": []
  },
  {
   "cell_type": "code",
   "execution_count": null,
   "metadata": {},
   "outputs": [],
   "source": []
  },
  {
   "cell_type": "code",
   "execution_count": null,
   "metadata": {},
   "outputs": [],
   "source": []
  },
  {
   "cell_type": "code",
   "execution_count": 96,
   "metadata": {},
   "outputs": [
    {
     "data": {
      "text/html": [
       "<div>\n",
       "<style scoped>\n",
       "    .dataframe tbody tr th:only-of-type {\n",
       "        vertical-align: middle;\n",
       "    }\n",
       "\n",
       "    .dataframe tbody tr th {\n",
       "        vertical-align: top;\n",
       "    }\n",
       "\n",
       "    .dataframe thead th {\n",
       "        text-align: right;\n",
       "    }\n",
       "</style>\n",
       "<table border=\"1\" class=\"dataframe\">\n",
       "  <thead>\n",
       "    <tr style=\"text-align: right;\">\n",
       "      <th></th>\n",
       "      <th>age</th>\n",
       "      <th>sum</th>\n",
       "    </tr>\n",
       "  </thead>\n",
       "  <tbody>\n",
       "    <tr>\n",
       "      <th>count</th>\n",
       "      <td>609.000000</td>\n",
       "      <td>609.000000</td>\n",
       "    </tr>\n",
       "    <tr>\n",
       "      <th>mean</th>\n",
       "      <td>26.760263</td>\n",
       "      <td>11.729064</td>\n",
       "    </tr>\n",
       "    <tr>\n",
       "      <th>std</th>\n",
       "      <td>3.605779</td>\n",
       "      <td>2.220677</td>\n",
       "    </tr>\n",
       "    <tr>\n",
       "      <th>min</th>\n",
       "      <td>19.000000</td>\n",
       "      <td>9.000000</td>\n",
       "    </tr>\n",
       "    <tr>\n",
       "      <th>25%</th>\n",
       "      <td>24.000000</td>\n",
       "      <td>10.000000</td>\n",
       "    </tr>\n",
       "    <tr>\n",
       "      <th>50%</th>\n",
       "      <td>26.000000</td>\n",
       "      <td>11.000000</td>\n",
       "    </tr>\n",
       "    <tr>\n",
       "      <th>75%</th>\n",
       "      <td>29.000000</td>\n",
       "      <td>13.000000</td>\n",
       "    </tr>\n",
       "    <tr>\n",
       "      <th>max</th>\n",
       "      <td>39.000000</td>\n",
       "      <td>18.000000</td>\n",
       "    </tr>\n",
       "  </tbody>\n",
       "</table>\n",
       "</div>"
      ],
      "text/plain": [
       "              age         sum\n",
       "count  609.000000  609.000000\n",
       "mean    26.760263   11.729064\n",
       "std      3.605779    2.220677\n",
       "min     19.000000    9.000000\n",
       "25%     24.000000   10.000000\n",
       "50%     26.000000   11.000000\n",
       "75%     29.000000   13.000000\n",
       "max     39.000000   18.000000"
      ]
     },
     "execution_count": 96,
     "metadata": {},
     "output_type": "execute_result"
    }
   ],
   "source": [
    "peak_players = joined.loc[:, ['player','age', 'sum']]\n",
    "peak_players = peak_players[peak_players['sum'] > 8]\n",
    "peak_players.describe()"
   ]
  },
  {
   "cell_type": "code",
   "execution_count": 95,
   "metadata": {},
   "outputs": [
    {
     "data": {
      "text/plain": [
       "<matplotlib.axes._subplots.AxesSubplot at 0x22a0c0266d8>"
      ]
     },
     "execution_count": 95,
     "metadata": {},
     "output_type": "execute_result"
    },
    {
     "data": {
      "image/png": "[encoded data removed]",
      "text/plain": [
       "<matplotlib.figure.Figure at 0x22a09bf0240>"
      ]
     },
     "metadata": {
      "needs_background": "light"
     },
     "output_type": "display_data"
    }
   ],
   "source": [
    "peak_players['sum'].plot(kind='hist', bins=8)"
   ]
  },
  {
   "cell_type": "code",
   "execution_count": null,
   "metadata": {},
   "outputs": [],
   "source": []
  }
 ],
 "metadata": {
  "kernelspec": {
   "display_name": "Python 3",
   "language": "python",
   "name": "python3"
  },
  "language_info": {
   "codemirror_mode": {
    "name": "ipython",
    "version": 3
   },
   "file_extension": ".py",
   "mimetype": "text/x-python",
   "name": "python",
   "nbconvert_exporter": "python",
   "pygments_lexer": "ipython3",
   "version": "3.6.7"
  }
 },
 "nbformat": 4,
 "nbformat_minor": 2
}
