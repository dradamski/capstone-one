{
 "cells": [
  {
   "cell_type": "code",
   "execution_count": 1,
   "metadata": {},
   "outputs": [],
   "source": [
    "%matplotlib inline\n",
    "import numpy as np\n",
    "import scipy as sp\n",
    "import matplotlib.pyplot as plt\n",
    "import pandas as pd\n",
    "import seaborn as sns\n",
    "from sklearn.metrics import accuracy_score\n",
    "\n",
    "from cleaning import df\n",
    "sns.set()"
   ]
  },
  {
   "cell_type": "markdown",
   "metadata": {},
   "source": [
    "Based on my EDA, there are some columns I am going to drop from my dataset due to strong multicollinearity and statistics that inform the other. I will be dropping `pts` which is a combination of `twop`, `threep`, and `ft`. Additionally, this will help me see if there are meaningful differences in how different scoring methods affect a player's likelihood to be an allstar. I am dropping `trb` because it is the combined total of `drb` and `orb`. I will also be dropping `fgp`, `twopp`, `threepp`, and `ftp` because they are calculated from using makes divided by attempts."
   ]
  },
  {
   "cell_type": "code",
   "execution_count": 2,
   "metadata": {},
   "outputs": [],
   "source": [
    "df = df.drop(columns=['pts', 'trb', 'fgp', 'twopp', 'threepp', 'ftp'])"
   ]
  },
  {
   "cell_type": "markdown",
   "metadata": {},
   "source": [
    "I want to set up a pipeline that performs GridSearchCV on every step from Feature Selection, Hyperparameter Tuning, and Learning Model Selection.\n",
    "\n",
    "Feature Selection:\n",
    "- `VarianceThreshold`\n",
    "- `SelectKBest`\n",
    "- `SelectFromModel`\n",
    "\n",
    "Hyperparameter Tuning:\n",
    "- `GridSearchCV`\n",
    "\n",
    "Learning Model Selection:\n",
    "- `LogisticRegression`\n",
    "- `RandomForestClassifier`\n",
    "- `SVM`\n",
    "- `KNNeighborsClassifier`\n",
    "\n",
    "\n",
    "Metrics:\n",
    "- ROC-AUC\n",
    "- F1 Score\n",
    "\n"
   ]
  },
  {
   "cell_type": "markdown",
   "metadata": {},
   "source": [
    "# Feature Selection\n",
    "There are 3 different methods of feature selection that I will consider: `VarianceThreshold`, `SelectKBest`, and `SelectFromModel`.\n",
    "\n",
    "`VarianceThreshold` removes all features with a variance equal to 0. Since I do not have any columns with the same values throughout, this will not help me reduce the dimensionality of my dataset.\n",
    "\n",
    "`SelectKBest` selects a defined number of categories, k, that are most descriptive of the data. For classification problems, there are 3 types of tests that can be run to score the features: `chi2`, `f_classif`, and `mutual_info_classif`. `chi2` uses a $\\chi^{2}$ test to measure dependence between stochastic varables, so this function removes features that are most likely to be independent of class and therefore irrelevant to classification. However, it requires all positive values, and when I scale my data, some values are below 0.  `f_classif` calculates the ANOVA F-value for the sample which is the ratio of two features' variance. `mutual_info_classif` estimates mutual information for a discrete target variable. If MI between two random variables is 0, they are independent, and a high MI means higher dependency.\n",
    "\n",
    "For my purposes, I will use `SelectKBest` and use `mutual_info_classif` to determine the best features.\n",
    "\n",
    "To begin, I set `int_df` equal to the numeric columns of my dataset. I then split it into the feature columns and the target column, `allstar_next`. I then separate each of these new dataframes into training datasets and test datasets. I use StandardizedScaler to preprocess the feature dataset. The target data is binary so no standardization is necesary.\n",
    "\n",
    "In order to prevent leakage in my model, I fit it to the training set ONLY, and then use this fitted model to transform both the training and test sets."
   ]
  },
  {
   "cell_type": "code",
   "execution_count": 3,
   "metadata": {},
   "outputs": [
    {
     "ename": "NameError",
     "evalue": "name 'mutual_info_classif' is not defined",
     "output_type": "error",
     "traceback": [
      "\u001b[0;31m---------------------------------------------------------------------------\u001b[0m",
      "\u001b[0;31mNameError\u001b[0m                                 Traceback (most recent call last)",
      "\u001b[0;32m<ipython-input-3-1057d04510a9>\u001b[0m in \u001b[0;36m<module>\u001b[0;34m()\u001b[0m\n\u001b[1;32m     14\u001b[0m \u001b[1;33m\u001b[0m\u001b[0m\n\u001b[1;32m     15\u001b[0m \u001b[1;33m\u001b[0m\u001b[0m\n\u001b[0;32m---> 16\u001b[0;31m \u001b[0mskb\u001b[0m \u001b[1;33m=\u001b[0m \u001b[0mSelectKBest\u001b[0m\u001b[1;33m(\u001b[0m\u001b[0mmutual_info_classif\u001b[0m\u001b[1;33m,\u001b[0m \u001b[0mk\u001b[0m\u001b[1;33m=\u001b[0m\u001b[0mfeatures\u001b[0m\u001b[1;33m.\u001b[0m\u001b[0mshape\u001b[0m\u001b[1;33m[\u001b[0m\u001b[1;36m1\u001b[0m\u001b[1;33m]\u001b[0m\u001b[1;33m)\u001b[0m\u001b[1;33m\u001b[0m\u001b[1;33m\u001b[0m\u001b[0m\n\u001b[0m\u001b[1;32m     17\u001b[0m \u001b[0mskb\u001b[0m\u001b[1;33m.\u001b[0m\u001b[0mfit\u001b[0m\u001b[1;33m(\u001b[0m\u001b[0mXtrain\u001b[0m\u001b[1;33m,\u001b[0m \u001b[0mytrain\u001b[0m\u001b[1;33m)\u001b[0m\u001b[1;33m\u001b[0m\u001b[1;33m\u001b[0m\u001b[0m\n\u001b[1;32m     18\u001b[0m \u001b[0mmask\u001b[0m \u001b[1;33m=\u001b[0m \u001b[0mskb\u001b[0m\u001b[1;33m.\u001b[0m\u001b[0mget_support\u001b[0m\u001b[1;33m(\u001b[0m\u001b[1;33m)\u001b[0m\u001b[1;33m\u001b[0m\u001b[1;33m\u001b[0m\u001b[0m\n",
      "\u001b[0;31mNameError\u001b[0m: name 'mutual_info_classif' is not defined"
     ]
    }
   ],
   "source": [
    "from sklearn.feature_selection import SelectKBest, chi2\n",
    "from sklearn.model_selection import train_test_split\n",
    "from sklearn.preprocessing import StandardScaler\n",
    "\n",
    "int_df = df.select_dtypes(exclude=object)\n",
    "features = int_df.loc[:, int_df.columns != 'allstar_next']\n",
    "target = int_df.loc[:, 'allstar_next']\n",
    "\n",
    "Xtrain, Xtest, ytrain, ytest = train_test_split(features, target)\n",
    "\n",
    "scaler = StandardScaler()\n",
    "Xtrain = scaler.fit_transform(Xtrain)\n",
    "Xtest = scaler.transform(Xtest)\n",
    "\n",
    "\n",
    "skb = SelectKBest(mutual_info_classif, k=features.shape[1])\n",
    "skb.fit(Xtrain, ytrain)\n",
    "mask = skb.get_support()\n",
    "kbestfeat = list()\n",
    "\n",
    "for boolean, feature in zip(mask, int_df.columns):\n",
    "    if boolean:\n",
    "        kbestfeat.append(feature)"
   ]
  },
  {
   "cell_type": "code",
   "execution_count": null,
   "metadata": {},
   "outputs": [],
   "source": [
    "indices = np.argsort(skb.scores_)[::-1]\n",
    "cols = []\n",
    "for i in range(23):\n",
    "    cols.append(int_df.columns[indices[i]])\n",
    "\n",
    "# Now plot\n",
    "plt.figure(figsize=[12,6])\n",
    "plt.bar(cols, skb.scores_[indices[range(23)]], color='r', align='center')\n",
    "plt.xticks(rotation=60)\n",
    "plt.title('Best Descriptors Based on Mutual Information Score', size=20)\n",
    "plt.xlabel('Feature')\n",
    "plt.ylabel('Mutual Information')\n",
    "plt.show()"
   ]
  },
  {
   "cell_type": "markdown",
   "metadata": {},
   "source": [
    "My 10 most descriptive features are: `fta`, `ft`, `twop`, `fg`, `twopa`, `allstar`, `fga`, `mp`, `tov`, and `gs`. However, I don't know if feature selection is even the best option for me. In order to check this, I will run some tests on the ability of my model to correctly predict my data using different number of features"
   ]
  },
  {
   "cell_type": "code",
   "execution_count": null,
   "metadata": {},
   "outputs": [],
   "source": [
    "from sklearn.metrics import f1_score\n",
    "\n",
    "scaler = StandardScaler()\n",
    "lr = LogisticRegression(max_iter=10000, solver='lbfgs')\n",
    "pipeline = make_pipeline(scaler, lr)\n",
    "\n",
    "f1s = []\n",
    "for i in range(1, len(kbestfeat)+1):\n",
    "    \n",
    "    features = int_df[cols[:i]].values\n",
    "    target = int_df.loc[:, 'allstar_next'].values\n",
    "\n",
    "    Xtrain, Xtest, ytrain, ytest = train_test_split(features, target)\n",
    "    \n",
    "    pipeline.fit(Xtrain, ytrain)\n",
    "    ypred = pipeline.predict(Xtest)\n",
    "    \n",
    "    f1s.append(f1_score(ytest, ypred))\n",
    "    \n",
    "plt.figure(figsize=(12,6))\n",
    "plt.bar(x=range(1, len(kbestfeat)+1), height=f1s);\n",
    "plt.title('F1 Scores for Different Number of Features', size=20);\n",
    "plt.xlabel('Number of Features');\n",
    "plt.ylabel('F1 Score');"
   ]
  },
  {
   "cell_type": "markdown",
   "metadata": {},
   "source": [
    "Since there is an initial increase in prediction power and then very small increases with more features, I am not going to reduce the dimensionality of my dataset further than I already have. Increased information will hopefully help me tune my model more effectively."
   ]
  },
  {
   "cell_type": "markdown",
   "metadata": {},
   "source": [
    "# Logistic Regression\n",
    "There are a variety of parameters for logistic regression, but many of them do not apply to my question for a variety of reasons or I have made a selection based on the scikit-learn documentation. For instance, while there are many potential solvers many do not make sense for my project. `sag` and `saga` are for very large datasets. Given that I do not have an excess of columns, I want to use L2 penalty rather than L1 which could induce too much sparsity. Using `newton-cg` comes with many problems such as being computationally expensive and being attracted to Saddle Points where it can become confused about whether the input is a maximum or minimum. This leaves me with `liblinear` and `lbfgs`. I will use `lbfgs` because it is the default setting for `LogisticRegression` and will serve my purposes well.\n",
    "\n",
    "I have determined the following parameters to be most important for my model construction:\n",
    "- `C`\n",
    "- `fit_intercept`\n",
    "\n",
    "I chose to use GridSearchCV over RandomizedSearchCV because the range of parameters and the size of my dataset is not so large as to cause problems. My scoring metric to determine the best model will be the F1 score because in my dataset, there are more seasons where the next year a player is not an allstar than there are seasons where a player is. Looking at accuracy alone would artificially inflate the models success rate."
   ]
  },
  {
   "cell_type": "code",
   "execution_count": null,
   "metadata": {},
   "outputs": [],
   "source": [
    "from sklearn.linear_model import LogisticRegression\n",
    "from sklearn.model_selection import GridSearchCV, train_test_split\n",
    "from sklearn.preprocessing import StandardScaler\n",
    "\n",
    "int_df = df.select_dtypes(exclude=object)\n",
    "features = int_df[kbestfeat[:10]].values\n",
    "target = int_df.loc[:, 'allstar_next'].values\n",
    "\n",
    "Xtrain, Xtest, ytrain, ytest = train_test_split(features, target)\n",
    "scaler = StandardScaler()\n",
    "Xtrain = scaler.fit_transform(Xtrain)\n",
    "Xtest = scaler.transform(Xtest)\n",
    "\n",
    "lr = LogisticRegression(solver='lbfgs', max_iter=10000, random_state=13)\n",
    "parameters = {'C':[0.001, 0.1, 1, 10, 10e8],\n",
    "              'fit_intercept': [True, False]\n",
    "             }\n",
    "gscv = GridSearchCV(lr, parameters, cv=5, \n",
    "                          scoring = 'f1',\n",
    "                          error_score=np.nan)\n"
   ]
  },
  {
   "cell_type": "code",
   "execution_count": null,
   "metadata": {},
   "outputs": [],
   "source": [
    "gscv.fit(Xtrain, ytrain)\n",
    "print('Parameters:\\n{}\\nF1 Score:{}'.format(gscv.best_params_, \n",
    "                                            gscv.best_score_))\n",
    "C = gscv.best_params_['C']\n",
    "fit_intercept = gscv.best_params_['fit_intercept']"
   ]
  },
  {
   "cell_type": "markdown",
   "metadata": {},
   "source": [
    "Based off of the grid search results, my parameters for the model should be:\n",
    "- `C`: 10e8\n",
    "- `fit_intercept`: False\n",
    "\n",
    "I now want to test my model's effectiveness at predicting new data. Below I set up a pipeline to standardize the data and then perform logistic regression on the test samples. I will then produce a confusion matrix, classification report, and ROC curve."
   ]
  },
  {
   "cell_type": "code",
   "execution_count": null,
   "metadata": {
    "scrolled": true
   },
   "outputs": [],
   "source": [
    "from sklearn.linear_model import LogisticRegression\n",
    "from sklearn.metrics import classification_report, confusion_matrix\n",
    "from sklearn.model_selection import train_test_split\n",
    "from sklearn.pipeline import make_pipeline\n",
    "from sklearn.preprocessing import StandardScaler\n",
    "\n",
    "int_df = df.select_dtypes(exclude=object)\n",
    "features = int_df.loc[:, int_df.columns != 'allstar_next'].values\n",
    "target = int_df.loc[:, 'allstar_next'].values\n",
    "\n",
    "Xtrain, Xtest, ytrain, ytest = train_test_split(features, target)\n",
    "scaler = StandardScaler()\n",
    "\n",
    "lr = LogisticRegression(C=C, fit_intercept=fit_intercept,\n",
    "                       max_iter=10000, solver='lbfgs')\n",
    "\n",
    "pipeline = make_pipeline(scaler, lr)\n",
    "\n",
    "pipeline.fit(Xtrain, ytrain)\n",
    "ypred = pipeline.predict(Xtest)\n",
    "\n",
    "print(confusion_matrix(ytest, ypred))\n",
    "print(classification_report(ytest, ypred))\n"
   ]
  },
  {
   "cell_type": "code",
   "execution_count": null,
   "metadata": {
    "scrolled": true
   },
   "outputs": [],
   "source": [
    "from sklearn.metrics import roc_curve, auc\n",
    "\n",
    "fprlr, tprlr, threshold = roc_curve(ytest, ypred)\n",
    "roc_auclr = auc(fprlr, tprlr)\n",
    "\n",
    "plt.figure(figsize=(12,6));\n",
    "plt.title('Receiver Operating Characteristic: Logistic Regression', size=20);\n",
    "plt.plot(fprlr, tprlr, 'b', label = 'AUC = %0.2f' % roc_auclr);\n",
    "plt.legend(loc = 'lower right');\n",
    "plt.plot([0, 1], [0, 1],'r--');\n",
    "plt.xlim([0, 1]);\n",
    "plt.ylim([0, 1]);\n",
    "plt.ylabel('True Positive Rate');\n",
    "plt.xlabel('False Positive Rate');\n",
    "plt.show();"
   ]
  },
  {
   "cell_type": "markdown",
   "metadata": {},
   "source": [
    "I now want to explore using a Random Forest Classifier on my data.\n",
    "\n",
    "For this testing, I will use RandomizedSearchCV for this testing because `RandomForestClassifier` is a far more computationally expensive procedure than `LogisticRegression`."
   ]
  },
  {
   "cell_type": "code",
   "execution_count": null,
   "metadata": {},
   "outputs": [],
   "source": [
    "from sklearn.ensemble import RandomForestClassifier\n",
    "from sklearn.model_selection import RandomizedSearchCV, train_test_split\n",
    "from sklearn.preprocessing import StandardScaler\n",
    "\n",
    "int_df = df.select_dtypes(exclude=object)\n",
    "features = int_df.loc[:, int_df.columns != 'allstar_next'].values\n",
    "target = int_df.loc[:, 'allstar_next'].values\n",
    "\n",
    "Xtrain, Xtest, ytrain, ytest = train_test_split(features, target)\n",
    "\n",
    "scaler = StandardScaler()\n",
    "rfc = RandomForestClassifier(bootstrap=True)\n",
    "\n",
    "param_grid = {\n",
    "    'n_estimators': [10, 100, 500, 1000],\n",
    "    'max_depth': [1, 2, 5, 10],\n",
    "    'max_features': [1, 2, 3, 4, 5]\n",
    "}\n",
    "\n",
    "rscv = RandomizedSearchCV(rfc, n_iter=15, param_distributions=param_grid, \n",
    "                          cv=5, scoring = 'f1',\n",
    "                          error_score=np.nan)"
   ]
  },
  {
   "cell_type": "code",
   "execution_count": null,
   "metadata": {},
   "outputs": [],
   "source": [
    "rscv.fit(Xtrain, ytrain)"
   ]
  },
  {
   "cell_type": "code",
   "execution_count": 4,
   "metadata": {},
   "outputs": [
    {
     "ename": "NameError",
     "evalue": "name 'rscv' is not defined",
     "output_type": "error",
     "traceback": [
      "\u001b[0;31m---------------------------------------------------------------------------\u001b[0m",
      "\u001b[0;31mNameError\u001b[0m                                 Traceback (most recent call last)",
      "\u001b[0;32m<ipython-input-4-d7eb22bf2765>\u001b[0m in \u001b[0;36m<module>\u001b[0;34m()\u001b[0m\n\u001b[0;32m----> 1\u001b[0;31m \u001b[0mprint\u001b[0m\u001b[1;33m(\u001b[0m\u001b[0mrscv\u001b[0m\u001b[1;33m.\u001b[0m\u001b[0mbest_params_\u001b[0m\u001b[1;33m,\u001b[0m \u001b[0mrscv\u001b[0m\u001b[1;33m.\u001b[0m\u001b[0mbest_score_\u001b[0m\u001b[1;33m)\u001b[0m\u001b[1;33m\u001b[0m\u001b[1;33m\u001b[0m\u001b[0m\n\u001b[0m",
      "\u001b[0;31mNameError\u001b[0m: name 'rscv' is not defined"
     ]
    }
   ],
   "source": [
    "print(rscv.best_params_, rscv.best_score_)"
   ]
  },
  {
   "cell_type": "code",
   "execution_count": 5,
   "metadata": {
    "scrolled": true
   },
   "outputs": [
    {
     "name": "stdout",
     "output_type": "stream",
     "text": [
      "[[531  78]\n",
      " [ 97 259]]\n",
      "              precision    recall  f1-score   support\n",
      "\n",
      "         0.0       0.85      0.87      0.86       609\n",
      "         1.0       0.77      0.73      0.75       356\n",
      "\n",
      "    accuracy                           0.82       965\n",
      "   macro avg       0.81      0.80      0.80       965\n",
      "weighted avg       0.82      0.82      0.82       965\n",
      "\n"
     ]
    }
   ],
   "source": [
    "from sklearn.ensemble import RandomForestClassifier\n",
    "from sklearn.metrics import classification_report, confusion_matrix\n",
    "from sklearn.model_selection import train_test_split\n",
    "from sklearn.pipeline import make_pipeline\n",
    "from sklearn.preprocessing import StandardScaler\n",
    "\n",
    "int_df = df.select_dtypes(exclude=object)\n",
    "features = int_df.loc[:, int_df.columns != 'allstar_next']\n",
    "target = int_df.loc[:, 'allstar_next']\n",
    "\n",
    "Xtrain, Xtest, ytrain, ytest = train_test_split(features, target)\n",
    "\n",
    "scaler = StandardScaler()\n",
    "rfc = RandomForestClassifier(n_estimators=500, max_features=5,\n",
    "                            max_depth=5)\n",
    "pipeline = make_pipeline(scaler, rfc)\n",
    "\n",
    "pipeline.fit(Xtrain, ytrain)\n",
    "ypred = pipeline.predict(Xtest)\n",
    "\n",
    "print(confusion_matrix(ytest, ypred))\n",
    "print(classification_report(ytest, ypred))\n"
   ]
  },
  {
   "cell_type": "code",
   "execution_count": 6,
   "metadata": {},
   "outputs": [
    {
     "data": {
      "text/plain": [
       "allstar            0.210419\n",
       "fta                0.125059\n",
       "twop               0.098156\n",
       "ft                 0.094258\n",
       "twopa              0.085869\n",
       "fg                 0.085112\n",
       "mp                 0.080575\n",
       "fga                0.055954\n",
       "years_in_league    0.021473\n",
       "tov                0.020025\n",
       "age                0.016438\n",
       "drb                0.016393\n",
       "efgp               0.013490\n",
       "gs                 0.011970\n",
       "ast                0.011466\n",
       "stl                0.010611\n",
       "blk                0.009127\n",
       "g                  0.007111\n",
       "pf                 0.006872\n",
       "orb                0.006290\n",
       "threepa            0.005032\n",
       "threep             0.004305\n",
       "height             0.003996\n",
       "dtype: float64"
      ]
     },
     "execution_count": 6,
     "metadata": {},
     "output_type": "execute_result"
    }
   ],
   "source": [
    "feature_imp = pd.Series(rfc.feature_importances_, index=features.columns).sort_values(ascending=False)\n",
    "feature_imp"
   ]
  },
  {
   "cell_type": "code",
   "execution_count": 7,
   "metadata": {},
   "outputs": [
    {
     "data": {
      "image/png": "[encoded data removed]",
      "text/plain": [
       "<Figure size 864x432 with 1 Axes>"
      ]
     },
     "metadata": {
      "needs_background": "light"
     },
     "output_type": "display_data"
    }
   ],
   "source": [
    "plt.figure(figsize=(12,6))\n",
    "sns.barplot(x=feature_imp[:10], y=feature_imp[:10].index);\n",
    "plt.xlabel('Feature Importance Score');\n",
    "plt.ylabel('Features');\n",
    "plt.title('Visualizing Important Features', size=20);\n",
    "plt.plot();"
   ]
  },
  {
   "cell_type": "code",
   "execution_count": 8,
   "metadata": {},
   "outputs": [
    {
     "data": {
      "image/png": "[encoded data removed]",
      "text/plain": [
       "<Figure size 864x432 with 1 Axes>"
      ]
     },
     "metadata": {
      "needs_background": "light"
     },
     "output_type": "display_data"
    }
   ],
   "source": [
    "from sklearn.metrics import roc_curve, auc\n",
    "\n",
    "fprrfc, tprrfc, threshold = roc_curve(ytest, ypred)\n",
    "roc_aucrfc = auc(fprrfc, tprrfc)\n",
    "\n",
    "plt.figure(figsize=(12,6))\n",
    "plt.title('Receiver Operating Characteristic Comparison', size=20)\n",
    "plt.plot(fprrfc, tprrfc, 'g', label='Rand Forest: %0.2f' % roc_aucrfc)\n",
    "plt.legend(title='AUC', loc = 'lower right')\n",
    "plt.plot([0, 1], [0, 1],'r--')\n",
    "plt.xlim([0, 1])\n",
    "plt.ylim([0, 1])\n",
    "plt.ylabel('True Positive Rate')\n",
    "plt.xlabel('False Positive Rate')\n",
    "plt.show()"
   ]
  },
  {
   "cell_type": "markdown",
   "metadata": {},
   "source": [
    "Based on this testing, Random Forest Classifier is worse than a Logistic Regression. I will now test Support Machine Vectors"
   ]
  },
  {
   "cell_type": "code",
   "execution_count": 12,
   "metadata": {},
   "outputs": [],
   "source": [
    "from sklearn.svm import SVC\n",
    "from sklearn.model_selection import GridSearchCV, train_test_split\n",
    "from sklearn.preprocessing import StandardScaler\n",
    "\n",
    "int_df = df.select_dtypes(exclude=object)\n",
    "features = int_df.loc[:, int_df.columns != 'allstar_next']\n",
    "target = int_df.loc[:, 'allstar_next']\n",
    "\n",
    "Xtrain, Xtest, ytrain, ytest = train_test_split(features, target)\n",
    "\n",
    "scaler = StandardScaler()\n",
    "svc = SVC(gamma='scale')\n",
    "\n",
    "param_grid = {\n",
    "    'C' : [0.001, 1, 1000000],\n",
    "    'kernel' : ['poly', 'rbf', 'sigmoid'],\n",
    "    'degree' : [2, 3]\n",
    "}\n",
    "\n",
    "gscv = GridSearchCV(svc, param_grid, cv=5,\n",
    "                    scoring = 'f1',\n",
    "                    error_score=np.nan)"
   ]
  },
  {
   "cell_type": "code",
   "execution_count": null,
   "metadata": {},
   "outputs": [
    {
     "name": "stderr",
     "output_type": "stream",
     "text": [
      "C:\\Users\\Drew\\AppData\\Roaming\\Python\\Python36\\site-packages\\sklearn\\metrics\\classification.py:1437: UndefinedMetricWarning: F-score is ill-defined and being set to 0.0 due to no predicted samples.\n",
      "  'precision', 'predicted', average, warn_for)\n",
      "C:\\Users\\Drew\\AppData\\Roaming\\Python\\Python36\\site-packages\\sklearn\\metrics\\classification.py:1437: UndefinedMetricWarning: F-score is ill-defined and being set to 0.0 due to no predicted samples.\n",
      "  'precision', 'predicted', average, warn_for)\n",
      "C:\\Users\\Drew\\AppData\\Roaming\\Python\\Python36\\site-packages\\sklearn\\metrics\\classification.py:1437: UndefinedMetricWarning: F-score is ill-defined and being set to 0.0 due to no predicted samples.\n",
      "  'precision', 'predicted', average, warn_for)\n",
      "C:\\Users\\Drew\\AppData\\Roaming\\Python\\Python36\\site-packages\\sklearn\\metrics\\classification.py:1437: UndefinedMetricWarning: F-score is ill-defined and being set to 0.0 due to no predicted samples.\n",
      "  'precision', 'predicted', average, warn_for)\n",
      "C:\\Users\\Drew\\AppData\\Roaming\\Python\\Python36\\site-packages\\sklearn\\metrics\\classification.py:1437: UndefinedMetricWarning: F-score is ill-defined and being set to 0.0 due to no predicted samples.\n",
      "  'precision', 'predicted', average, warn_for)\n",
      "C:\\Users\\Drew\\AppData\\Roaming\\Python\\Python36\\site-packages\\sklearn\\metrics\\classification.py:1437: UndefinedMetricWarning: F-score is ill-defined and being set to 0.0 due to no predicted samples.\n",
      "  'precision', 'predicted', average, warn_for)\n",
      "C:\\Users\\Drew\\AppData\\Roaming\\Python\\Python36\\site-packages\\sklearn\\metrics\\classification.py:1437: UndefinedMetricWarning: F-score is ill-defined and being set to 0.0 due to no predicted samples.\n",
      "  'precision', 'predicted', average, warn_for)\n",
      "C:\\Users\\Drew\\AppData\\Roaming\\Python\\Python36\\site-packages\\sklearn\\metrics\\classification.py:1437: UndefinedMetricWarning: F-score is ill-defined and being set to 0.0 due to no predicted samples.\n",
      "  'precision', 'predicted', average, warn_for)\n",
      "C:\\Users\\Drew\\AppData\\Roaming\\Python\\Python36\\site-packages\\sklearn\\metrics\\classification.py:1437: UndefinedMetricWarning: F-score is ill-defined and being set to 0.0 due to no predicted samples.\n",
      "  'precision', 'predicted', average, warn_for)\n",
      "C:\\Users\\Drew\\AppData\\Roaming\\Python\\Python36\\site-packages\\sklearn\\metrics\\classification.py:1437: UndefinedMetricWarning: F-score is ill-defined and being set to 0.0 due to no predicted samples.\n",
      "  'precision', 'predicted', average, warn_for)\n"
     ]
    }
   ],
   "source": [
    "gscv.fit(Xtrain, ytrain)"
   ]
  },
  {
   "cell_type": "code",
   "execution_count": null,
   "metadata": {},
   "outputs": [],
   "source": [
    "print(gscv.best_params_, gscv.best_score_)"
   ]
  },
  {
   "cell_type": "code",
   "execution_count": null,
   "metadata": {},
   "outputs": [],
   "source": []
  },
  {
   "cell_type": "code",
   "execution_count": null,
   "metadata": {},
   "outputs": [],
   "source": []
  },
  {
   "cell_type": "code",
   "execution_count": null,
   "metadata": {},
   "outputs": [],
   "source": [
    "from sklearn.metrics import roc_curve, auc\n",
    "\n",
    "fprrfc, tprrfc, threshold = roc_curve(ytest, ypred)\n",
    "roc_aucrfc = auc(fprrfc, tprrfc)\n",
    "\n",
    "plt.figure(figsize=(12,6))\n",
    "plt.title('Receiver Operating Characteristic Comparison', size=20)\n",
    "plt.plot(fprlr, tprlr, 'b', label = 'Log Reg = %0.2f' % roc_auclr)\n",
    "plt.plot(fprrfc, tprrfc, 'g', label='Rand Forest: %0.2f' % roc_aucrfc)\n",
    "plt.legend(title='AUC', loc = 'lower right')\n",
    "plt.plot([0, 1], [0, 1],'r--')\n",
    "plt.xlim([0, 1])\n",
    "plt.ylim([0, 1])\n",
    "plt.ylabel('True Positive Rate')\n",
    "plt.xlabel('False Positive Rate')\n",
    "plt.show()"
   ]
  },
  {
   "cell_type": "code",
   "execution_count": null,
   "metadata": {},
   "outputs": [],
   "source": []
  },
  {
   "cell_type": "code",
   "execution_count": null,
   "metadata": {},
   "outputs": [],
   "source": []
  },
  {
   "cell_type": "code",
   "execution_count": null,
   "metadata": {},
   "outputs": [],
   "source": []
  },
  {
   "cell_type": "code",
   "execution_count": null,
   "metadata": {},
   "outputs": [],
   "source": []
  },
  {
   "cell_type": "code",
   "execution_count": null,
   "metadata": {},
   "outputs": [],
   "source": []
  },
  {
   "cell_type": "code",
   "execution_count": null,
   "metadata": {},
   "outputs": [],
   "source": []
  },
  {
   "cell_type": "code",
   "execution_count": null,
   "metadata": {},
   "outputs": [],
   "source": []
  },
  {
   "cell_type": "code",
   "execution_count": null,
   "metadata": {},
   "outputs": [],
   "source": []
  },
  {
   "cell_type": "code",
   "execution_count": null,
   "metadata": {},
   "outputs": [],
   "source": []
  },
  {
   "cell_type": "markdown",
   "metadata": {},
   "source": [
    "I found this code at [http://www.davidsbatista.net/blog/2018/02/23/model_optimization/] which allows me to test multiple models and parameters at once.\n"
   ]
  },
  {
   "cell_type": "code",
   "execution_count": null,
   "metadata": {},
   "outputs": [],
   "source": [
    "import pandas as pd\n",
    "import numpy as np\n",
    "\n",
    "from sklearn.model_selection import GridSearchCV\n",
    "\n",
    "class EstimatorSelectionHelper:\n",
    "\n",
    "    def __init__(self, models, params):\n",
    "        if not set(models.keys()).issubset(set(params.keys())):\n",
    "            missing_params = list(set(models.keys()) - set(params.keys()))\n",
    "            raise ValueError(\"Some estimators are missing parameters: %s\" % missing_params)\n",
    "        self.models = models\n",
    "        self.params = params\n",
    "        self.keys = models.keys()\n",
    "        self.grid_searches = {}\n",
    "\n",
    "    def fit(self, X, y, cv=3, n_jobs=3, verbose=1, scoring=None, refit=False):\n",
    "        for key in self.keys:\n",
    "            print(\"Running GridSearchCV for %s.\" % key)\n",
    "            model = self.models[key]\n",
    "            params = self.params[key]\n",
    "            gs = GridSearchCV(model, params, cv=cv, n_jobs=n_jobs,\n",
    "                              verbose=verbose, scoring=scoring, refit=refit,\n",
    "                              return_train_score=True)\n",
    "            gs.fit(X,y)\n",
    "            self.grid_searches[key] = gs    \n",
    "\n",
    "    def score_summary(self, sort_by='mean_score'):\n",
    "        def row(key, scores, params):\n",
    "            d = {\n",
    "                 'estimator': key,\n",
    "                 'min_score': min(scores),\n",
    "                 'max_score': max(scores),\n",
    "                 'mean_score': np.mean(scores),\n",
    "                 'std_score': np.std(scores),\n",
    "            }\n",
    "            return pd.Series({**params,**d})\n",
    "\n",
    "        rows = []\n",
    "        for k in self.grid_searches:\n",
    "            print(k)\n",
    "            params = self.grid_searches[k].cv_results_['params']\n",
    "            scores = []\n",
    "            for i in range(self.grid_searches[k].cv):\n",
    "                key = \"split{}_test_score\".format(i)\n",
    "                r = self.grid_searches[k].cv_results_[key]        \n",
    "                scores.append(r.reshape(len(params),1))\n",
    "\n",
    "            all_scores = np.hstack(scores)\n",
    "            for p, s in zip(params,all_scores):\n",
    "                rows.append((row(k, s, p)))\n",
    "\n",
    "        df = pd.concat(rows, axis=1).T.sort_values([sort_by], ascending=False)\n",
    "\n",
    "        columns = ['estimator', 'min_score', 'mean_score', 'max_score', 'std_score']\n",
    "        columns = columns + [c for c in df.columns if c not in columns]\n",
    "\n",
    "        return df[columns]"
   ]
  },
  {
   "cell_type": "code",
   "execution_count": null,
   "metadata": {},
   "outputs": [],
   "source": []
  },
  {
   "cell_type": "code",
   "execution_count": null,
   "metadata": {},
   "outputs": [],
   "source": []
  },
  {
   "cell_type": "code",
   "execution_count": null,
   "metadata": {},
   "outputs": [],
   "source": []
  },
  {
   "cell_type": "code",
   "execution_count": null,
   "metadata": {},
   "outputs": [],
   "source": []
  },
  {
   "cell_type": "code",
   "execution_count": null,
   "metadata": {},
   "outputs": [],
   "source": []
  },
  {
   "cell_type": "code",
   "execution_count": null,
   "metadata": {},
   "outputs": [],
   "source": []
  },
  {
   "cell_type": "code",
   "execution_count": null,
   "metadata": {},
   "outputs": [],
   "source": []
  },
  {
   "cell_type": "code",
   "execution_count": null,
   "metadata": {},
   "outputs": [],
   "source": []
  },
  {
   "cell_type": "code",
   "execution_count": null,
   "metadata": {},
   "outputs": [],
   "source": []
  },
  {
   "cell_type": "code",
   "execution_count": null,
   "metadata": {},
   "outputs": [],
   "source": []
  },
  {
   "cell_type": "code",
   "execution_count": null,
   "metadata": {},
   "outputs": [],
   "source": []
  },
  {
   "cell_type": "code",
   "execution_count": null,
   "metadata": {},
   "outputs": [],
   "source": []
  },
  {
   "cell_type": "code",
   "execution_count": null,
   "metadata": {},
   "outputs": [],
   "source": []
  },
  {
   "cell_type": "code",
   "execution_count": null,
   "metadata": {},
   "outputs": [],
   "source": []
  },
  {
   "cell_type": "code",
   "execution_count": null,
   "metadata": {},
   "outputs": [],
   "source": []
  },
  {
   "cell_type": "code",
   "execution_count": null,
   "metadata": {},
   "outputs": [],
   "source": []
  },
  {
   "cell_type": "code",
   "execution_count": null,
   "metadata": {},
   "outputs": [],
   "source": []
  },
  {
   "cell_type": "code",
   "execution_count": null,
   "metadata": {},
   "outputs": [],
   "source": []
  },
  {
   "cell_type": "code",
   "execution_count": null,
   "metadata": {},
   "outputs": [],
   "source": []
  },
  {
   "cell_type": "code",
   "execution_count": null,
   "metadata": {},
   "outputs": [],
   "source": [
    "import matplotlib.pyplot as plt\n",
    "from sklearn.manifold import TSNE\n",
    "from sklearn.pipeline import make_pipeline\n",
    "from sklearn.preprocessing import StandardScaler\n",
    "\n",
    "int_df = df.select_dtypes(exclude=object)\n",
    "features = int_df.loc[:, int_df.columns != 'allstar_next'].values\n",
    "target = int_df.loc[:, 'allstar_next'].values\n",
    "\n",
    "Xtrain, Xtest, ytrain, ytest = train_test_split(features, target)\n",
    "scaler = StandardScaler()\n",
    "Xtrain = scaler.fit_transform(Xtrain)\n",
    "Xtest = scaler.transform(Xtest)\n",
    "\n",
    "model = TSNE(learning_rate=100)\n",
    "transformed = model.fit_transform(int_df)\n",
    "xs = transformed[:, 0]\n",
    "ys = transformed[:, 1]\n",
    "_ = plt.scatter(xs, ys, c=target, cmap='plasma', alpha = 0.2)\n",
    "_ = plt.show()"
   ]
  },
  {
   "cell_type": "markdown",
   "metadata": {},
   "source": [
    "Next I want to look at a different "
   ]
  }
 ],
 "metadata": {
  "kernelspec": {
   "display_name": "Python 3",
   "language": "python",
   "name": "python3"
  },
  "language_info": {
   "codemirror_mode": {
    "name": "ipython",
    "version": 3
   },
   "file_extension": ".py",
   "mimetype": "text/x-python",
   "name": "python",
   "nbconvert_exporter": "python",
   "pygments_lexer": "ipython3",
   "version": "3.6.7"
  }
 },
 "nbformat": 4,
 "nbformat_minor": 2
}
