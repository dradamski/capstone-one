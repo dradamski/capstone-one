{
 "cells": [
  {
   "cell_type": "code",
   "execution_count": null,
   "metadata": {
    "collapsed": true
   },
   "outputs": [],
   "source": [
    "from bs4 import BeautifulSoup\n",
    "import pandas as pd\n",
    "import urllib.request\n"
   ]
  },
  {
   "cell_type": "code",
   "execution_count": null,
   "metadata": {
    "collapsed": true
   },
   "outputs": [],
   "source": [
    "# Access Basketball Reference to get league leaders in win shares for each season\n",
    "#specify the url\n",
    "site = \"https://www.basketball-reference.com/leaders/hof_prob.html\"\n",
    "#Query the website and return the html to the variable 'page'\n",
    "page = urllib.request.urlopen(site)\n",
    "#Parse the html in the 'page' variable and store it in Beautiful Soup format\n",
    "soup = BeautifulSoup(page, 'lxml')"
   ]
  },
  {
   "cell_type": "code",
   "execution_count": null,
   "metadata": {
    "collapsed": false
   },
   "outputs": [],
   "source": [
    "# Save two Hall of Fame Probability leader tables (all time and active)\n",
    "alltime_table, active_table = soup.find_all('table')\n",
    "alltime_table\n"
   ]
  },
  {
   "cell_type": "code",
   "execution_count": null,
   "metadata": {
    "collapsed": false
   },
   "outputs": [],
   "source": [
    "active_table"
   ]
  },
  {
   "cell_type": "code",
   "execution_count": null,
   "metadata": {
    "collapsed": false
   },
   "outputs": [],
   "source": [
    "#create list tuples of players and href \n",
    "alltime_list = []\n",
    "active_list = []\n",
    "for line in alltime_table('td'):\n",
    "    try:\n",
    "        alltime_list.append((str(line.a.string), str(line.a.get('href'))))\n",
    "    except:\n",
    "        print('could not do it for', line)\n",
    "        \n",
    "for line in active_table('td'):\n",
    "    try:\n",
    "        active_list.append((str(line.a.string), str(line.a.get('href'))))\n",
    "    except:\n",
    "        print('could not do it for', line)"
   ]
  },
  {
   "cell_type": "code",
   "execution_count": null,
   "metadata": {
    "collapsed": false
   },
   "outputs": [],
   "source": [
    "len(alltime_list), alltime_list[:10]"
   ]
  },
  {
   "cell_type": "code",
   "execution_count": null,
   "metadata": {
    "collapsed": false
   },
   "outputs": [],
   "source": [
    "len(active_list), active_list[:10]"
   ]
  },
  {
   "cell_type": "code",
   "execution_count": null,
   "metadata": {
    "collapsed": false
   },
   "outputs": [],
   "source": [
    "# Create list of players on active_list but not alltime_list\n",
    "# and add to alltime_list\n",
    "active_list = list(set(active_list).difference(set(alltime_list)))\n",
    "alltime_list += active_list\n",
    "# Print new list length and last 10 players of list\n",
    "print(len(alltime_list))\n",
    "print(alltime_list[-10:])"
   ]
  },
  {
   "cell_type": "code",
   "execution_count": null,
   "metadata": {
    "collapsed": false
   },
   "outputs": [],
   "source": [
    "# This for loop gets the season by season stats for each player in the \n",
    "# alltime_list. First it turns the player page html into a Beautiful Soup\n",
    "# object to make the stats table. I also pull the player's height from\n",
    "# the top of the page, and convert it from a string 'x-xx' to inches.\n",
    "all_seasons = [] \n",
    "for player in alltime_list:\n",
    "    reference_site = 'https://www.basketball-reference.com' + player[1]\n",
    "    page = urllib.request.urlopen(reference_site)\n",
    "    soup = BeautifulSoup(page, 'lxml')\n",
    "    per_game_table = soup.table\n",
    "    \n",
    "    height_str = str(soup.find_all('div', {'id':'info'})[0].find_all('span', {'itemprop':'height'})[0].string)\n",
    "    height = height_str.split('-')\n",
    "    height = int(height[0])*12 + int(height[1])\n",
    "    \n",
    "    # This section gets stats values for a single season and \n",
    "    # makes a single list\n",
    "    values = []\n",
    "    length = 0\n",
    "    for row in (per_game_table('tr')):\n",
    "        for num, column in enumerate(row):\n",
    "            # Players from different decades have different\n",
    "            # available stats, but PTS is always the last column\n",
    "            if column.string == 'PTS':\n",
    "                length = int((num+1) / 2)\n",
    "            if column != '\\n':\n",
    "                values.append(str(column.string))\n",
    "    categories = values[:length]\n",
    "    # Ignores category names\n",
    "    values = values[length:]\n",
    "\n",
    "    # Create list of individual season stats lists\n",
    "    player_career = [['Player', 'href', 'Height'] + categories]\n",
    "    season = [player[0], player[1], height]\n",
    "    for value in values:\n",
    "        if value.startswith('Did'):\n",
    "            # Find players who took time off mid-career\n",
    "            print(player[0], value)\n",
    "        season.append(str(value))\n",
    "        #added and (season[3] != None)\n",
    "        if (len(season) == length+3) and (season[4] != 'None'):\n",
    "            player_career.append(season)\n",
    "            season = [player[0], player[1], height]\n",
    "        # Player must have played at least 12 seasons\n",
    "    #if (len(player_career) > 12):# and (len(player_career[0]) == 33):\n",
    "    all_seasons.append(player_career)\n",
    "    print(str((len(player_career)-1)), ' seasons of ', player[0], 'added')\n"
   ]
  },
  {
   "cell_type": "code",
   "execution_count": null,
   "metadata": {
    "collapsed": false
   },
   "outputs": [],
   "source": [
    "# Create pandas DataFrame of all data\n",
    "category_list= ['Player', 'href', 'Height', 'Season', 'Age', 'Tm', 'Lg', \n",
    "                'Pos', 'G', 'GS', 'MP', 'FG', 'FGA', 'FG%', '3P', '3PA', \n",
    "                '3P%', '2P', '2PA', '2P%', 'eFG%', 'FT', 'FTA', 'FT%', \n",
    "                'ORB', 'DRB', 'TRB', 'AST', 'STL', 'BLK', 'TOV', 'PF', 'PTS'\n",
    "                ]"
   ]
  },
  {
   "cell_type": "code",
   "execution_count": null,
   "metadata": {
    "collapsed": true
   },
   "outputs": [],
   "source": [
    "# CREATE LIST OF DATAFRAMES AND MERGE AT END\n",
    "df_list = []\n",
    "season_df_list = []\n",
    "master_df = pd.DataFrame(columns=category_list)\n",
    "for career in all_seasons:\n",
    "    labels=career[0]\n",
    "    for season in career[1:]:\n",
    "        season_df = pd.DataFrame(data=season, index=labels)\n",
    "        season_df_list.append(season_df.transpose())\n",
    "        print(career[1][0] + ' added')\n",
    "career_df = pd.concat(season_df_list, ignore_index=True)\n",
    "    \n",
    "\n",
    "career_df.to_csv('all-stats-messy.csv', columns = category_list)"
   ]
  }
 ],
 "metadata": {
  "kernelspec": {
   "display_name": "Python 3",
   "language": "python",
   "name": "python3"
  },
  "language_info": {
   "codemirror_mode": {
    "name": "ipython",
    "version": 3
   },
   "file_extension": ".py",
   "mimetype": "text/x-python",
   "name": "python",
   "nbconvert_exporter": "python",
   "pygments_lexer": "ipython3",
   "version": "3.6.7"
  }
 },
 "nbformat": 4,
 "nbformat_minor": 2
}
